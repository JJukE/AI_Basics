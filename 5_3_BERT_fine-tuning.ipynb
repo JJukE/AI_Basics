{
  "nbformat": 4,
  "nbformat_minor": 0,
  "metadata": {
    "colab": {
      "provenance": [],
      "collapsed_sections": [],
      "include_colab_link": true
    },
    "kernelspec": {
      "name": "python3",
      "display_name": "Python 3"
    },
    "language_info": {
      "name": "python"
    },
    "accelerator": "GPU"
  },
  "cells": [
    {
      "cell_type": "markdown",
      "metadata": {
        "id": "view-in-github",
        "colab_type": "text"
      },
      "source": [
        "<a href=\"https://colab.research.google.com/github/UNIST-LIM-Lab-course/bert_fine_assignmnet-JJukE/blob/main/BERT_fine_assignment.ipynb\" target=\"_parent\"><img src=\"https://colab.research.google.com/assets/colab-badge.svg\" alt=\"Open In Colab\"/></a>"
      ]
    },
    {
      "cell_type": "markdown",
      "source": [
        "BERT Assignment \n",
        "\n",
        "The task objective is to code sentiment analysis by BERT \n",
        "\n",
        "* An assignment part is denoted by (Assingment) \n",
        "\n",
        "* Grading criteria: Points are given if all your code in this notebook is runnable and the final acc is upper than 0.5\n",
        "\n",
        "* Points are not given if the testing cell at the end of the notebook is modified or extra cells (including text) are added after the last cell. Do not change **epochs** for testing efficiently.\n",
        "\n",
        "* Testing your model with the testing cell is recommended. \n",
        "\n",
        "* Please do not re-use the code from the example code. You have to write the code yourself.\n"
      ],
      "metadata": {
        "id": "uX5PHSvCPZ5c"
      }
    },
    {
      "cell_type": "markdown",
      "source": [
        "## Assignmnet List \n",
        "* (Assignment) 1.2 Upload tokenizer \n",
        "* (Assignment) 1.3 Make your Dataset by BertDataset function \n",
        "* (Assignment) 2.1 Make BERT Model by pretrained_model\n",
        "* (Assignment) 3.1 Freeze parameters \n",
        "* (Assignment) 3.2 Make finetune function "
      ],
      "metadata": {
        "id": "dYpHMiEbPpjp"
      }
    },
    {
      "cell_type": "markdown",
      "source": [
        "#1. Preparing Data\n",
        "\n"
      ],
      "metadata": {
        "id": "G5lHCy6JPf4Y"
      }
    },
    {
      "cell_type": "code",
      "source": [
        "pip install transformers"
      ],
      "metadata": {
        "colab": {
          "base_uri": "https://localhost:8080/"
        },
        "id": "d5N5xQCLLu44",
        "outputId": "6b804b61-7073-480c-d5c1-ca01250a360f"
      },
      "execution_count": 2,
      "outputs": [
        {
          "output_type": "stream",
          "name": "stdout",
          "text": [
            "Looking in indexes: https://pypi.org/simple, https://us-python.pkg.dev/colab-wheels/public/simple/\n",
            "Collecting transformers\n",
            "  Downloading transformers-4.24.0-py3-none-any.whl (5.5 MB)\n",
            "\u001b[K     |████████████████████████████████| 5.5 MB 10.0 MB/s \n",
            "\u001b[?25hRequirement already satisfied: numpy>=1.17 in /usr/local/lib/python3.7/dist-packages (from transformers) (1.21.6)\n",
            "Requirement already satisfied: importlib-metadata in /usr/local/lib/python3.7/dist-packages (from transformers) (4.13.0)\n",
            "Requirement already satisfied: packaging>=20.0 in /usr/local/lib/python3.7/dist-packages (from transformers) (21.3)\n",
            "Requirement already satisfied: regex!=2019.12.17 in /usr/local/lib/python3.7/dist-packages (from transformers) (2022.6.2)\n",
            "Collecting huggingface-hub<1.0,>=0.10.0\n",
            "  Downloading huggingface_hub-0.10.1-py3-none-any.whl (163 kB)\n",
            "\u001b[K     |████████████████████████████████| 163 kB 65.4 MB/s \n",
            "\u001b[?25hCollecting tokenizers!=0.11.3,<0.14,>=0.11.1\n",
            "  Downloading tokenizers-0.13.2-cp37-cp37m-manylinux_2_17_x86_64.manylinux2014_x86_64.whl (7.6 MB)\n",
            "\u001b[K     |████████████████████████████████| 7.6 MB 56.6 MB/s \n",
            "\u001b[?25hRequirement already satisfied: tqdm>=4.27 in /usr/local/lib/python3.7/dist-packages (from transformers) (4.64.1)\n",
            "Requirement already satisfied: filelock in /usr/local/lib/python3.7/dist-packages (from transformers) (3.8.0)\n",
            "Requirement already satisfied: pyyaml>=5.1 in /usr/local/lib/python3.7/dist-packages (from transformers) (6.0)\n",
            "Requirement already satisfied: requests in /usr/local/lib/python3.7/dist-packages (from transformers) (2.23.0)\n",
            "Requirement already satisfied: typing-extensions>=3.7.4.3 in /usr/local/lib/python3.7/dist-packages (from huggingface-hub<1.0,>=0.10.0->transformers) (4.1.1)\n",
            "Requirement already satisfied: pyparsing!=3.0.5,>=2.0.2 in /usr/local/lib/python3.7/dist-packages (from packaging>=20.0->transformers) (3.0.9)\n",
            "Requirement already satisfied: zipp>=0.5 in /usr/local/lib/python3.7/dist-packages (from importlib-metadata->transformers) (3.10.0)\n",
            "Requirement already satisfied: urllib3!=1.25.0,!=1.25.1,<1.26,>=1.21.1 in /usr/local/lib/python3.7/dist-packages (from requests->transformers) (1.24.3)\n",
            "Requirement already satisfied: certifi>=2017.4.17 in /usr/local/lib/python3.7/dist-packages (from requests->transformers) (2022.9.24)\n",
            "Requirement already satisfied: chardet<4,>=3.0.2 in /usr/local/lib/python3.7/dist-packages (from requests->transformers) (3.0.4)\n",
            "Requirement already satisfied: idna<3,>=2.5 in /usr/local/lib/python3.7/dist-packages (from requests->transformers) (2.10)\n",
            "Installing collected packages: tokenizers, huggingface-hub, transformers\n",
            "Successfully installed huggingface-hub-0.10.1 tokenizers-0.13.2 transformers-4.24.0\n"
          ]
        }
      ]
    },
    {
      "cell_type": "code",
      "execution_count": 3,
      "metadata": {
        "id": "9AUSnpT6LRxI"
      },
      "outputs": [],
      "source": [
        "import pandas as pd\n",
        "import numpy as np\n",
        "import transformers\n",
        "import torch\n",
        "import torch.nn as nn\n",
        "\n",
        "import torch.optim as optim\n",
        "import torch.nn.functional as F\n",
        "from torchsummary import summary\n",
        "from tqdm import tqdm"
      ]
    },
    {
      "cell_type": "markdown",
      "source": [
        "## 1.1 Make BertDataset"
      ],
      "metadata": {
        "id": "WC4hTmrDPkF7"
      }
    },
    {
      "cell_type": "code",
      "source": [
        "from torch.utils.data import Dataset\n",
        "from torch.utils.data import DataLoader\n",
        "\n",
        "class BertDataset(Dataset):\n",
        "    def __init__(self, tokenizer,max_length):\n",
        "        super(BertDataset, self).__init__()\n",
        "        self.train_csv=pd.read_csv('https://github.com/clairett/pytorch-sentiment-classification/raw/master/data/SST2/train.tsv', delimiter='\\t', header=None)\n",
        "        self.tokenizer=tokenizer\n",
        "        self.target=self.train_csv.iloc[:,1]\n",
        "        self.max_length=max_length\n",
        "        \n",
        "    def __len__(self):\n",
        "        return len(self.train_csv)\n",
        "    \n",
        "    def __getitem__(self, index):\n",
        "        \n",
        "        text1 = self.train_csv.iloc[index,0]\n",
        "        inputs = self.tokenizer.encode_plus(\n",
        "            text1 ,\n",
        "            None,\n",
        "            pad_to_max_length=True,\n",
        "            add_special_tokens=True,\n",
        "            return_attention_mask=True,\n",
        "            max_length=self.max_length,\n",
        "        )\n",
        "        ids = inputs[\"input_ids\"]\n",
        "        token_type_ids = inputs[\"token_type_ids\"]\n",
        "        mask = inputs[\"attention_mask\"]\n",
        "\n",
        "        return {\n",
        "            'ids': torch.tensor(ids, dtype=torch.long),\n",
        "            'mask': torch.tensor(mask, dtype=torch.long),\n",
        "            'token_type_ids': torch.tensor(token_type_ids, dtype=torch.long),\n",
        "            'target': torch.tensor(self.train_csv.iloc[index, 1], dtype=torch.long)\n",
        "            }\n"
      ],
      "metadata": {
        "id": "PLoqJHreLYhU"
      },
      "execution_count": 47,
      "outputs": []
    },
    {
      "cell_type": "markdown",
      "source": [
        "## (Assignment) 1.2 Upload tokenizer \n",
        "* Fill out `tokenizer` by using BertTokenizer of \"prajjwal1/bert-tiny\" #(TODO:Assignment).\n"
      ],
      "metadata": {
        "id": "RX9shmrkMc0e"
      }
    },
    {
      "cell_type": "code",
      "source": [
        "tokenizer = transformers.BertTokenizer.from_pretrained(\"prajjwal1/bert-tiny\", do_lower_case=True) #(TODO:Assignment)"
      ],
      "metadata": {
        "id": "oi-mt-HmQe9E",
        "colab": {
          "base_uri": "https://localhost:8080/"
        },
        "outputId": "5592bca8-a090-4465-ef46-8cbb47afcd85"
      },
      "execution_count": 48,
      "outputs": [
        {
          "output_type": "stream",
          "name": "stderr",
          "text": [
            "\r  0%|          | 0/217 [12:12<?, ?it/s]\n"
          ]
        }
      ]
    },
    {
      "cell_type": "markdown",
      "source": [
        "## (Assignment) 1.3 Make your Dataset by `BertDataset`\n",
        "* Fill out `dataset` by using BertDataset` \n",
        "* Fill out `dataloader` by using `DataLoader` of torch.utils.data\n",
        "* Set max_length=100 \n",
        "* Set batch_size=32 "
      ],
      "metadata": {
        "id": "hDZu0W3WQDPD"
      }
    },
    {
      "cell_type": "code",
      "source": [
        "dataset= BertDataset(tokenizer, 100) #(TODO:Assignment)\n",
        "dataloader= torch.utils.data.DataLoader(dataset, batch_size=32, shuffle=True) #(TODO:Assignment)"
      ],
      "metadata": {
        "id": "rDiq1rwVQDu3"
      },
      "execution_count": 49,
      "outputs": []
    },
    {
      "cell_type": "markdown",
      "source": [
        "# 2. Construction your Model "
      ],
      "metadata": {
        "id": "BviYLIlYQuZp"
      }
    },
    {
      "cell_type": "markdown",
      "source": [
        "## (Assignment) 2.1 Make BERT Model by pretrained_model \n",
        "* Use the pretrained_model `prajjwal1/bert-tiny`\n",
        "* Simplest example code is below. But you can design BERT Model appropriately.\n",
        "* Do not stack more than three layers. The grading time should not exceed 3 minutes."
      ],
      "metadata": {
        "id": "FeoopBVrQw1D"
      }
    },
    {
      "cell_type": "code",
      "source": [
        "# Example code\n",
        "import torch.nn as nn\n",
        "class BERT(nn.Module):\n",
        "    def __init__(self):\n",
        "        super(BERT, self).__init__()\n",
        "        self.bert_model = transformers.BertModel.from_pretrained(\"prajjwal1/bert-tiny\")\n",
        "        self.out = nn.Linear(128, 1)\n",
        "        \n",
        "    def forward(self,ids,mask,token_type_ids):\n",
        "        _,o2= self.bert_model(ids,attention_mask=mask,token_type_ids=token_type_ids, return_dict=False)\n",
        "        out= self.out(o2)\n",
        "        return out\n",
        "    \n",
        "model=BERT()"
      ],
      "metadata": {
        "id": "kUULLUkYdmq0",
        "colab": {
          "base_uri": "https://localhost:8080/"
        },
        "outputId": "85d65b82-7ade-454d-ac08-9832a7313717"
      },
      "execution_count": 55,
      "outputs": [
        {
          "output_type": "stream",
          "name": "stderr",
          "text": [
            "Some weights of the model checkpoint at prajjwal1/bert-tiny were not used when initializing BertModel: ['cls.predictions.transform.dense.weight', 'cls.seq_relationship.bias', 'cls.seq_relationship.weight', 'cls.predictions.bias', 'cls.predictions.decoder.weight', 'cls.predictions.decoder.bias', 'cls.predictions.transform.LayerNorm.bias', 'cls.predictions.transform.dense.bias', 'cls.predictions.transform.LayerNorm.weight']\n",
            "- This IS expected if you are initializing BertModel from the checkpoint of a model trained on another task or with another architecture (e.g. initializing a BertForSequenceClassification model from a BertForPreTraining model).\n",
            "- This IS NOT expected if you are initializing BertModel from the checkpoint of a model that you expect to be exactly identical (initializing a BertForSequenceClassification model from a BertForSequenceClassification model).\n"
          ]
        }
      ]
    },
    {
      "cell_type": "code",
      "source": [
        "import torch.nn as nn\n",
        "class BERT(nn.Module):\n",
        "    def __init__(self):\n",
        "        super(BERT, self).__init__()\n",
        "        self.bert_model = transformers.BertModel.from_pretrained(\"prajjwal1/bert-tiny\")\n",
        "        #(TODO:Assignment) 1) Define your BERT Model\n",
        "        self.dropout = nn.Dropout(0.2)\n",
        "        self.fc1 = nn.Linear(128, 32)\n",
        "        self.fc2 = nn.Linear(32, 1)\n",
        "        self.elu = nn.ELU()\n",
        "\n",
        "    def forward(self,ids,mask,token_type_ids):\n",
        "        _,o2= self.bert_model(ids,attention_mask=mask,token_type_ids=token_type_ids, return_dict=False)\n",
        "        #(TODO:Assignment) 2) Forward your BERT Model\n",
        "        out = self.fc1(self.dropout(o2))\n",
        "        out = self.elu(out)\n",
        "        out = self.fc2(self.dropout(out))\n",
        "        return out\n",
        "    \n",
        "model=BERT()"
      ],
      "metadata": {
        "colab": {
          "base_uri": "https://localhost:8080/"
        },
        "id": "zgUzQtpMLcig",
        "outputId": "b2650712-621e-46a6-917c-151a65759664"
      },
      "execution_count": 56,
      "outputs": [
        {
          "output_type": "stream",
          "name": "stderr",
          "text": [
            "Some weights of the model checkpoint at prajjwal1/bert-tiny were not used when initializing BertModel: ['cls.predictions.transform.dense.weight', 'cls.seq_relationship.bias', 'cls.seq_relationship.weight', 'cls.predictions.bias', 'cls.predictions.decoder.weight', 'cls.predictions.decoder.bias', 'cls.predictions.transform.LayerNorm.bias', 'cls.predictions.transform.dense.bias', 'cls.predictions.transform.LayerNorm.weight']\n",
            "- This IS expected if you are initializing BertModel from the checkpoint of a model trained on another task or with another architecture (e.g. initializing a BertForSequenceClassification model from a BertForPreTraining model).\n",
            "- This IS NOT expected if you are initializing BertModel from the checkpoint of a model that you expect to be exactly identical (initializing a BertForSequenceClassification model from a BertForSequenceClassification model).\n"
          ]
        }
      ]
    },
    {
      "cell_type": "markdown",
      "source": [
        "# 3. Train your Moel "
      ],
      "metadata": {
        "id": "mYOC9WXVRJxI"
      }
    },
    {
      "cell_type": "code",
      "source": [
        "loss_fn = nn.BCEWithLogitsLoss()\n",
        "optimizer= optim.Adam(model.parameters(),lr= 0.0001)"
      ],
      "metadata": {
        "id": "qBayfEg9RIsp"
      },
      "execution_count": 57,
      "outputs": []
    },
    {
      "cell_type": "markdown",
      "source": [
        "## (Assignment) 3.1 Freeze parameters \n",
        "* Fill out `#(TODO:Assignment)` to freeze parameters of BERT. \n",
        "* We should update prameters of non-BERT"
      ],
      "metadata": {
        "id": "iZN9sNwSROF-"
      }
    },
    {
      "cell_type": "code",
      "source": [
        "for param in model.bert_model.parameters():\n",
        "  param.requires_grad = False #(TODO:Assignment) 1) Set requires_grad to be False"
      ],
      "metadata": {
        "id": "_VpmE2CxLcj9"
      },
      "execution_count": 58,
      "outputs": []
    },
    {
      "cell_type": "code",
      "source": [
        "def count_parameters(model):\n",
        "    return sum(p.numel() for p in model.parameters() if p.requires_grad)\n",
        "\n",
        "print(f'The model has {count_parameters(model):,} trainable parameters')"
      ],
      "metadata": {
        "colab": {
          "base_uri": "https://localhost:8080/"
        },
        "id": "wMGh7kTLMu0S",
        "outputId": "4241c6fa-da7d-4187-9982-a88d18b317f3"
      },
      "execution_count": 59,
      "outputs": [
        {
          "output_type": "stream",
          "name": "stdout",
          "text": [
            "The model has 4,161 trainable parameters\n"
          ]
        }
      ]
    },
    {
      "cell_type": "markdown",
      "source": [
        "## (Assignment) 3.2 Make finetune function \n",
        "* Fill out `#(TODO:Assignment)` to make `def fineture`\n",
        "\n",
        "1) Define loop by dataloader \n",
        "\n",
        "2) Set the grad of optimzer to be zero\n",
        "\n",
        "3) Calculate the loss_fn(output, label) and the backward of the loss_fn\n",
        "\n",
        "4) Estimate the everage accuracy of the model for each epoch \n",
        "\n",
        "5) Estimate the total everage accuracy of the model"
      ],
      "metadata": {
        "id": "DZIEkWFoR7f5"
      }
    },
    {
      "cell_type": "code",
      "source": [
        "def finetune(epochs,dataloader,model,loss_fn,optimizer):\n",
        "    model.train()\n",
        "    for  epoch in range(epochs):\n",
        "        acc = 0 \n",
        "        N = 0 \n",
        "        #(TODO:Assignment) 1) Define loop by dataloader\n",
        "        loop = enumerate(tqdm(dataloader))\n",
        "        for batch, dl in loop:\n",
        "          ids=dl['ids']\n",
        "          token_type_ids=dl['token_type_ids']\n",
        "          mask= dl['mask']\n",
        "          label=dl['target']\n",
        "          label = label.unsqueeze(1)\n",
        "\n",
        "          #(TODO:Assignment) 2) Set the grad of optimzer to be zero\n",
        "          optimizer.zero_grad()\n",
        "          output=model(\n",
        "                ids=ids,\n",
        "                mask=mask,\n",
        "                token_type_ids=token_type_ids)\n",
        "          label = label.type_as(output)\n",
        "          \n",
        "          #(TODO:Assignment) 3) Calculate the loss_fn(output, label) and the backward of the loss_fn\n",
        "          loss = loss_fn(output, label)\n",
        "          loss.backward()\n",
        "          optimizer.step()\n",
        "\n",
        "          #(TODO:Assignment) 4) Estimate the average accuracy of the model for each epoch\n",
        "          y_pred = torch.where(output >= 0, 1, 0).type(torch.float32).flatten().tolist()\n",
        "          y_true = label.type(torch.float32).flatten().tolist()\n",
        "\n",
        "          cnt = 0\n",
        "          for i in range(len(y_true)):\n",
        "            if y_pred[i] == y_true[i]:\n",
        "              cnt += 1\n",
        "\n",
        "          acc += cnt/len(y_true)\n",
        "          N += 1\n",
        "    \n",
        "    #(TODO:Assignment) 5) Estimate the total average accuracy of the model\n",
        "    acc = float(acc)/float(N)\n",
        "    return model, acc"
      ],
      "metadata": {
        "id": "4KtINEYULebe"
      },
      "execution_count": 60,
      "outputs": []
    },
    {
      "cell_type": "markdown",
      "source": [
        "# DO NOT CHANGE THE CODE AFTER (Assignment) 3.2 Make finetune function "
      ],
      "metadata": {
        "id": "scXvZnkNfmKG"
      }
    },
    {
      "cell_type": "markdown",
      "source": [
        "## 3.2 Train! "
      ],
      "metadata": {
        "id": "nDhaWtP7SBW1"
      }
    },
    {
      "cell_type": "code",
      "source": [
        "epochs=5\n",
        "model, acc =finetune(epochs, dataloader, model, loss_fn, optimizer)\n"
      ],
      "metadata": {
        "id": "1LFO7MUTLhOG",
        "colab": {
          "base_uri": "https://localhost:8080/"
        },
        "outputId": "21390b8c-ed8e-496f-86ed-07334a3d9b22"
      },
      "execution_count": 61,
      "outputs": [
        {
          "output_type": "stream",
          "name": "stderr",
          "text": [
            "\n",
            "  0%|          | 0/217 [00:00<?, ?it/s]\u001b[ATruncation was not explicitly activated but `max_length` is provided a specific value, please use `truncation=True` to explicitly truncate examples to max length. Defaulting to 'longest_first' truncation strategy. If you encode pairs of sequences (GLUE-style) with the tokenizer you can select this strategy more precisely by providing a specific strategy to `truncation`.\n",
            "/usr/local/lib/python3.7/dist-packages/transformers/tokenization_utils_base.py:2310: FutureWarning: The `pad_to_max_length` argument is deprecated and will be removed in a future version, use `padding=True` or `padding='longest'` to pad to the longest sequence in the batch, or use `padding='max_length'` to pad to a max length. In this case, you can give a specific length with `max_length` (e.g. `max_length=45`) or leave max_length to None to pad to the maximal input size of the model (e.g. 512 for Bert).\n",
            "  FutureWarning,\n",
            "\n",
            "  0%|          | 1/217 [00:00<00:23,  9.29it/s]\u001b[A\n",
            "  1%|          | 2/217 [00:00<00:22,  9.61it/s]\u001b[A\n",
            "  2%|▏         | 4/217 [00:00<00:20, 10.31it/s]\u001b[A\n",
            "  3%|▎         | 6/217 [00:00<00:20, 10.26it/s]\u001b[A\n",
            "  4%|▎         | 8/217 [00:00<00:19, 10.58it/s]\u001b[A\n",
            "  5%|▍         | 10/217 [00:00<00:19, 10.69it/s]\u001b[A\n",
            "  6%|▌         | 12/217 [00:01<00:19, 10.65it/s]\u001b[A\n",
            "  6%|▋         | 14/217 [00:01<00:18, 10.77it/s]\u001b[A\n",
            "  7%|▋         | 16/217 [00:01<00:18, 10.58it/s]\u001b[A\n",
            "  8%|▊         | 18/217 [00:01<00:18, 10.62it/s]\u001b[A\n",
            "  9%|▉         | 20/217 [00:01<00:18, 10.61it/s]\u001b[A\n",
            " 10%|█         | 22/217 [00:02<00:18, 10.66it/s]\u001b[A\n",
            " 11%|█         | 24/217 [00:02<00:18, 10.65it/s]\u001b[A\n",
            " 12%|█▏        | 26/217 [00:02<00:17, 10.82it/s]\u001b[A\n",
            " 13%|█▎        | 28/217 [00:02<00:17, 10.68it/s]\u001b[A\n",
            " 14%|█▍        | 30/217 [00:02<00:17, 10.71it/s]\u001b[A\n",
            " 15%|█▍        | 32/217 [00:03<00:17, 10.71it/s]\u001b[A\n",
            " 16%|█▌        | 34/217 [00:03<00:17, 10.65it/s]\u001b[A\n",
            " 17%|█▋        | 36/217 [00:03<00:16, 10.83it/s]\u001b[A\n",
            " 18%|█▊        | 38/217 [00:03<00:16, 10.56it/s]\u001b[A\n",
            " 18%|█▊        | 40/217 [00:03<00:16, 10.67it/s]\u001b[A\n",
            " 19%|█▉        | 42/217 [00:03<00:16, 10.69it/s]\u001b[A\n",
            " 20%|██        | 44/217 [00:04<00:16, 10.48it/s]\u001b[A\n",
            " 21%|██        | 46/217 [00:04<00:16, 10.60it/s]\u001b[A\n",
            " 22%|██▏       | 48/217 [00:04<00:16, 10.48it/s]\u001b[A\n",
            " 23%|██▎       | 50/217 [00:04<00:15, 10.62it/s]\u001b[A\n",
            " 24%|██▍       | 52/217 [00:04<00:15, 10.76it/s]\u001b[A\n",
            " 25%|██▍       | 54/217 [00:05<00:15, 10.56it/s]\u001b[A\n",
            " 26%|██▌       | 56/217 [00:05<00:15, 10.39it/s]\u001b[A\n",
            " 27%|██▋       | 58/217 [00:05<00:15, 10.43it/s]\u001b[A\n",
            " 28%|██▊       | 60/217 [00:05<00:15, 10.33it/s]\u001b[A\n",
            " 29%|██▊       | 62/217 [00:05<00:14, 10.44it/s]\u001b[A\n",
            " 29%|██▉       | 64/217 [00:06<00:14, 10.47it/s]\u001b[A\n",
            " 30%|███       | 66/217 [00:06<00:14, 10.28it/s]\u001b[A\n",
            " 31%|███▏      | 68/217 [00:06<00:14, 10.30it/s]\u001b[A\n",
            " 32%|███▏      | 70/217 [00:06<00:14, 10.30it/s]\u001b[A\n",
            " 33%|███▎      | 72/217 [00:06<00:13, 10.36it/s]\u001b[A\n",
            " 34%|███▍      | 74/217 [00:07<00:13, 10.31it/s]\u001b[A\n",
            " 35%|███▌      | 76/217 [00:07<00:13, 10.37it/s]\u001b[A\n",
            " 36%|███▌      | 78/217 [00:07<00:13, 10.55it/s]\u001b[A\n",
            " 37%|███▋      | 80/217 [00:07<00:12, 10.54it/s]\u001b[A\n",
            " 38%|███▊      | 82/217 [00:07<00:12, 10.62it/s]\u001b[A\n",
            " 39%|███▊      | 84/217 [00:07<00:12, 10.71it/s]\u001b[A\n",
            " 40%|███▉      | 86/217 [00:08<00:12, 10.72it/s]\u001b[A\n",
            " 41%|████      | 88/217 [00:08<00:12, 10.61it/s]\u001b[A\n",
            " 41%|████▏     | 90/217 [00:08<00:11, 10.60it/s]\u001b[A\n",
            " 42%|████▏     | 92/217 [00:08<00:11, 10.57it/s]\u001b[A\n",
            " 43%|████▎     | 94/217 [00:08<00:11, 10.36it/s]\u001b[A\n",
            " 44%|████▍     | 96/217 [00:09<00:11, 10.38it/s]\u001b[A\n",
            " 45%|████▌     | 98/217 [00:09<00:11, 10.34it/s]\u001b[A\n",
            " 46%|████▌     | 100/217 [00:09<00:11, 10.16it/s]\u001b[A\n",
            " 47%|████▋     | 102/217 [00:09<00:11, 10.30it/s]\u001b[A\n",
            " 48%|████▊     | 104/217 [00:09<00:10, 10.32it/s]\u001b[A\n",
            " 49%|████▉     | 106/217 [00:10<00:10, 10.37it/s]\u001b[A\n",
            " 50%|████▉     | 108/217 [00:10<00:10, 10.38it/s]\u001b[A\n",
            " 51%|█████     | 110/217 [00:10<00:10, 10.44it/s]\u001b[A\n",
            " 52%|█████▏    | 112/217 [00:10<00:10, 10.48it/s]\u001b[A\n",
            " 53%|█████▎    | 114/217 [00:10<00:09, 10.54it/s]\u001b[A\n",
            " 53%|█████▎    | 116/217 [00:11<00:09, 10.56it/s]\u001b[A\n",
            " 54%|█████▍    | 118/217 [00:11<00:09, 10.61it/s]\u001b[A\n",
            " 55%|█████▌    | 120/217 [00:11<00:09, 10.46it/s]\u001b[A\n",
            " 56%|█████▌    | 122/217 [00:11<00:08, 10.56it/s]\u001b[A\n",
            " 57%|█████▋    | 124/217 [00:11<00:08, 10.54it/s]\u001b[A\n",
            " 58%|█████▊    | 126/217 [00:11<00:08, 10.46it/s]\u001b[A\n",
            " 59%|█████▉    | 128/217 [00:12<00:08, 10.46it/s]\u001b[A\n",
            " 60%|█████▉    | 130/217 [00:12<00:08, 10.32it/s]\u001b[A\n",
            " 61%|██████    | 132/217 [00:12<00:08, 10.48it/s]\u001b[A\n",
            " 62%|██████▏   | 134/217 [00:12<00:07, 10.50it/s]\u001b[A\n",
            " 63%|██████▎   | 136/217 [00:12<00:07, 10.57it/s]\u001b[A\n",
            " 64%|██████▎   | 138/217 [00:13<00:07, 10.68it/s]\u001b[A\n",
            " 65%|██████▍   | 140/217 [00:13<00:07, 10.42it/s]\u001b[A\n",
            " 65%|██████▌   | 142/217 [00:13<00:07, 10.49it/s]\u001b[A\n",
            " 66%|██████▋   | 144/217 [00:13<00:06, 10.50it/s]\u001b[A\n",
            " 67%|██████▋   | 146/217 [00:13<00:06, 10.46it/s]\u001b[A\n",
            " 68%|██████▊   | 148/217 [00:14<00:06, 10.62it/s]\u001b[A\n",
            " 69%|██████▉   | 150/217 [00:14<00:06, 10.62it/s]\u001b[A\n",
            " 70%|███████   | 152/217 [00:14<00:06, 10.34it/s]\u001b[A\n",
            " 71%|███████   | 154/217 [00:14<00:06, 10.39it/s]\u001b[A\n",
            " 72%|███████▏  | 156/217 [00:14<00:05, 10.27it/s]\u001b[A\n",
            " 73%|███████▎  | 158/217 [00:15<00:05, 10.25it/s]\u001b[A\n",
            " 74%|███████▎  | 160/217 [00:15<00:05, 10.01it/s]\u001b[A\n",
            " 75%|███████▍  | 162/217 [00:15<00:05,  9.87it/s]\u001b[A\n",
            " 75%|███████▌  | 163/217 [00:15<00:05,  9.88it/s]\u001b[A\n",
            " 76%|███████▌  | 164/217 [00:15<00:05,  9.79it/s]\u001b[A\n",
            " 76%|███████▌  | 165/217 [00:15<00:05,  9.77it/s]\u001b[A\n",
            " 76%|███████▋  | 166/217 [00:15<00:05,  9.80it/s]\u001b[A\n",
            " 77%|███████▋  | 168/217 [00:16<00:04, 10.15it/s]\u001b[A\n",
            " 78%|███████▊  | 170/217 [00:16<00:04, 10.41it/s]\u001b[A\n",
            " 79%|███████▉  | 172/217 [00:16<00:04, 10.38it/s]\u001b[A\n",
            " 80%|████████  | 174/217 [00:16<00:04, 10.43it/s]\u001b[A\n",
            " 81%|████████  | 176/217 [00:16<00:03, 10.60it/s]\u001b[A\n",
            " 82%|████████▏ | 178/217 [00:17<00:03, 10.52it/s]\u001b[A\n",
            " 83%|████████▎ | 180/217 [00:17<00:03, 10.57it/s]\u001b[A\n",
            " 84%|████████▍ | 182/217 [00:17<00:03, 10.30it/s]\u001b[A\n",
            " 85%|████████▍ | 184/217 [00:17<00:03, 10.33it/s]\u001b[A\n",
            " 86%|████████▌ | 186/217 [00:17<00:02, 10.43it/s]\u001b[A\n",
            " 87%|████████▋ | 188/217 [00:17<00:02, 10.37it/s]\u001b[A\n",
            " 88%|████████▊ | 190/217 [00:18<00:02, 10.56it/s]\u001b[A\n",
            " 88%|████████▊ | 192/217 [00:18<00:02, 10.56it/s]\u001b[A\n",
            " 89%|████████▉ | 194/217 [00:18<00:02, 10.49it/s]\u001b[A\n",
            " 90%|█████████ | 196/217 [00:18<00:01, 10.63it/s]\u001b[A\n",
            " 91%|█████████ | 198/217 [00:18<00:01, 10.55it/s]\u001b[A\n",
            " 92%|█████████▏| 200/217 [00:19<00:01, 10.66it/s]\u001b[A\n",
            " 93%|█████████▎| 202/217 [00:19<00:01, 10.65it/s]\u001b[A\n",
            " 94%|█████████▍| 204/217 [00:19<00:01, 10.51it/s]\u001b[A\n",
            " 95%|█████████▍| 206/217 [00:19<00:01, 10.51it/s]\u001b[A\n",
            " 96%|█████████▌| 208/217 [00:19<00:00, 10.48it/s]\u001b[A\n",
            " 97%|█████████▋| 210/217 [00:20<00:00, 10.37it/s]\u001b[A\n",
            " 98%|█████████▊| 212/217 [00:20<00:00, 10.45it/s]\u001b[A\n",
            " 99%|█████████▊| 214/217 [00:20<00:00, 10.27it/s]\u001b[A\n",
            "100%|██████████| 217/217 [00:20<00:00, 10.48it/s]\n",
            "\n",
            "  0%|          | 0/217 [00:00<?, ?it/s]\u001b[A\n",
            "  1%|          | 2/217 [00:00<00:19, 10.84it/s]\u001b[A\n",
            "  2%|▏         | 4/217 [00:00<00:20, 10.32it/s]\u001b[A\n",
            "  3%|▎         | 6/217 [00:00<00:19, 10.58it/s]\u001b[A\n",
            "  4%|▎         | 8/217 [00:00<00:19, 10.49it/s]\u001b[A\n",
            "  5%|▍         | 10/217 [00:00<00:19, 10.47it/s]\u001b[A\n",
            "  6%|▌         | 12/217 [00:01<00:19, 10.57it/s]\u001b[A\n",
            "  6%|▋         | 14/217 [00:01<00:19, 10.55it/s]\u001b[A\n",
            "  7%|▋         | 16/217 [00:01<00:18, 10.68it/s]\u001b[A\n",
            "  8%|▊         | 18/217 [00:01<00:18, 10.68it/s]\u001b[A\n",
            "  9%|▉         | 20/217 [00:01<00:18, 10.59it/s]\u001b[A\n",
            " 10%|█         | 22/217 [00:02<00:18, 10.63it/s]\u001b[A\n",
            " 11%|█         | 24/217 [00:02<00:18, 10.68it/s]\u001b[A\n",
            " 12%|█▏        | 26/217 [00:02<00:17, 10.81it/s]\u001b[A\n",
            " 13%|█▎        | 28/217 [00:02<00:17, 10.84it/s]\u001b[A\n",
            " 14%|█▍        | 30/217 [00:02<00:17, 10.76it/s]\u001b[A\n",
            " 15%|█▍        | 32/217 [00:03<00:17, 10.67it/s]\u001b[A\n",
            " 16%|█▌        | 34/217 [00:03<00:17, 10.69it/s]\u001b[A\n",
            " 17%|█▋        | 36/217 [00:03<00:16, 10.65it/s]\u001b[A\n",
            " 18%|█▊        | 38/217 [00:03<00:16, 10.63it/s]\u001b[A\n",
            " 18%|█▊        | 40/217 [00:03<00:16, 10.51it/s]\u001b[A\n",
            " 19%|█▉        | 42/217 [00:03<00:16, 10.48it/s]\u001b[A\n",
            " 20%|██        | 44/217 [00:04<00:16, 10.48it/s]\u001b[A\n",
            " 21%|██        | 46/217 [00:04<00:16, 10.45it/s]\u001b[A\n",
            " 22%|██▏       | 48/217 [00:04<00:16, 10.55it/s]\u001b[A\n",
            " 23%|██▎       | 50/217 [00:04<00:16, 10.39it/s]\u001b[A\n",
            " 24%|██▍       | 52/217 [00:04<00:16, 10.24it/s]\u001b[A\n",
            " 25%|██▍       | 54/217 [00:05<00:15, 10.39it/s]\u001b[A\n",
            " 26%|██▌       | 56/217 [00:05<00:15, 10.48it/s]\u001b[A\n",
            " 27%|██▋       | 58/217 [00:05<00:15, 10.58it/s]\u001b[A\n",
            " 28%|██▊       | 60/217 [00:05<00:14, 10.54it/s]\u001b[A\n",
            " 29%|██▊       | 62/217 [00:05<00:15, 10.09it/s]\u001b[A\n",
            " 29%|██▉       | 64/217 [00:06<00:15, 10.15it/s]\u001b[A\n",
            " 30%|███       | 66/217 [00:06<00:14, 10.13it/s]\u001b[A\n",
            " 31%|███▏      | 68/217 [00:06<00:14, 10.29it/s]\u001b[A\n",
            " 32%|███▏      | 70/217 [00:06<00:14, 10.43it/s]\u001b[A\n",
            " 33%|███▎      | 72/217 [00:06<00:13, 10.44it/s]\u001b[A\n",
            " 34%|███▍      | 74/217 [00:07<00:13, 10.48it/s]\u001b[A\n",
            " 35%|███▌      | 76/217 [00:07<00:13, 10.31it/s]\u001b[A\n",
            " 36%|███▌      | 78/217 [00:07<00:13, 10.32it/s]\u001b[A\n",
            " 37%|███▋      | 80/217 [00:07<00:13, 10.38it/s]\u001b[A\n",
            " 38%|███▊      | 82/217 [00:07<00:12, 10.50it/s]\u001b[A\n",
            " 39%|███▊      | 84/217 [00:08<00:12, 10.42it/s]\u001b[A\n",
            " 40%|███▉      | 86/217 [00:08<00:12, 10.57it/s]\u001b[A\n",
            " 41%|████      | 88/217 [00:08<00:12, 10.61it/s]\u001b[A\n",
            " 41%|████▏     | 90/217 [00:08<00:11, 10.72it/s]\u001b[A\n",
            " 42%|████▏     | 92/217 [00:08<00:11, 10.72it/s]\u001b[A\n",
            " 43%|████▎     | 94/217 [00:08<00:11, 10.70it/s]\u001b[A\n",
            " 44%|████▍     | 96/217 [00:09<00:11, 10.61it/s]\u001b[A\n",
            " 45%|████▌     | 98/217 [00:09<00:11, 10.44it/s]\u001b[A\n",
            " 46%|████▌     | 100/217 [00:09<00:11, 10.49it/s]\u001b[A\n",
            " 47%|████▋     | 102/217 [00:09<00:10, 10.60it/s]\u001b[A\n",
            " 48%|████▊     | 104/217 [00:09<00:10, 10.56it/s]\u001b[A\n",
            " 49%|████▉     | 106/217 [00:10<00:10, 10.52it/s]\u001b[A\n",
            " 50%|████▉     | 108/217 [00:10<00:10, 10.32it/s]\u001b[A\n",
            " 51%|█████     | 110/217 [00:10<00:10, 10.40it/s]\u001b[A\n",
            " 52%|█████▏    | 112/217 [00:10<00:10, 10.49it/s]\u001b[A\n",
            " 53%|█████▎    | 114/217 [00:10<00:09, 10.34it/s]\u001b[A\n",
            " 53%|█████▎    | 116/217 [00:11<00:09, 10.11it/s]\u001b[A\n",
            " 54%|█████▍    | 118/217 [00:11<00:09, 10.15it/s]\u001b[A\n",
            " 55%|█████▌    | 120/217 [00:11<00:09, 10.26it/s]\u001b[A\n",
            " 56%|█████▌    | 122/217 [00:11<00:09, 10.49it/s]\u001b[A\n",
            " 57%|█████▋    | 124/217 [00:11<00:08, 10.59it/s]\u001b[A\n",
            " 58%|█████▊    | 126/217 [00:12<00:08, 10.45it/s]\u001b[A\n",
            " 59%|█████▉    | 128/217 [00:12<00:08, 10.52it/s]\u001b[A\n",
            " 60%|█████▉    | 130/217 [00:12<00:08, 10.59it/s]\u001b[A\n",
            " 61%|██████    | 132/217 [00:12<00:07, 10.67it/s]\u001b[A\n",
            " 62%|██████▏   | 134/217 [00:12<00:07, 10.74it/s]\u001b[A\n",
            " 63%|██████▎   | 136/217 [00:12<00:07, 10.68it/s]\u001b[A\n",
            " 64%|██████▎   | 138/217 [00:13<00:07, 10.38it/s]\u001b[A\n",
            " 65%|██████▍   | 140/217 [00:13<00:07, 10.65it/s]\u001b[A\n",
            " 65%|██████▌   | 142/217 [00:13<00:07, 10.63it/s]\u001b[A\n",
            " 66%|██████▋   | 144/217 [00:13<00:06, 10.67it/s]\u001b[A\n",
            " 67%|██████▋   | 146/217 [00:13<00:06, 10.67it/s]\u001b[A\n",
            " 68%|██████▊   | 148/217 [00:14<00:06, 10.75it/s]\u001b[A\n",
            " 69%|██████▉   | 150/217 [00:14<00:06, 10.60it/s]\u001b[A\n",
            " 70%|███████   | 152/217 [00:14<00:06, 10.76it/s]\u001b[A\n",
            " 71%|███████   | 154/217 [00:14<00:05, 10.68it/s]\u001b[A\n",
            " 72%|███████▏  | 156/217 [00:14<00:05, 10.72it/s]\u001b[A\n",
            " 73%|███████▎  | 158/217 [00:15<00:05, 10.42it/s]\u001b[A\n",
            " 74%|███████▎  | 160/217 [00:15<00:05, 10.21it/s]\u001b[A\n",
            " 75%|███████▍  | 162/217 [00:15<00:05, 10.36it/s]\u001b[A\n",
            " 76%|███████▌  | 164/217 [00:15<00:05, 10.44it/s]\u001b[A\n",
            " 76%|███████▋  | 166/217 [00:15<00:04, 10.43it/s]\u001b[A\n",
            " 77%|███████▋  | 168/217 [00:15<00:04, 10.55it/s]\u001b[A\n",
            " 78%|███████▊  | 170/217 [00:16<00:04, 10.45it/s]\u001b[A\n",
            " 79%|███████▉  | 172/217 [00:16<00:04, 10.42it/s]\u001b[A\n",
            " 80%|████████  | 174/217 [00:16<00:04, 10.50it/s]\u001b[A\n",
            " 81%|████████  | 176/217 [00:16<00:03, 10.56it/s]\u001b[A\n",
            " 82%|████████▏ | 178/217 [00:16<00:03, 10.54it/s]\u001b[A\n",
            " 83%|████████▎ | 180/217 [00:17<00:03, 10.63it/s]\u001b[A\n",
            " 84%|████████▍ | 182/217 [00:17<00:03, 10.51it/s]\u001b[A\n",
            " 85%|████████▍ | 184/217 [00:17<00:03, 10.63it/s]\u001b[A\n",
            " 86%|████████▌ | 186/217 [00:17<00:02, 10.41it/s]\u001b[A\n",
            " 87%|████████▋ | 188/217 [00:17<00:02, 10.22it/s]\u001b[A\n",
            " 88%|████████▊ | 190/217 [00:18<00:02, 10.29it/s]\u001b[A\n",
            " 88%|████████▊ | 192/217 [00:18<00:02, 10.23it/s]\u001b[A\n",
            " 89%|████████▉ | 194/217 [00:18<00:02, 10.28it/s]\u001b[A\n",
            " 90%|█████████ | 196/217 [00:18<00:02, 10.33it/s]\u001b[A\n",
            " 91%|█████████ | 198/217 [00:18<00:01, 10.30it/s]\u001b[A\n",
            " 92%|█████████▏| 200/217 [00:19<00:01, 10.18it/s]\u001b[A\n",
            " 93%|█████████▎| 202/217 [00:19<00:01,  9.78it/s]\u001b[A\n",
            " 94%|█████████▎| 203/217 [00:19<00:01,  9.80it/s]\u001b[A\n",
            " 94%|█████████▍| 205/217 [00:19<00:01, 10.10it/s]\u001b[A\n",
            " 95%|█████████▌| 207/217 [00:19<00:00, 10.13it/s]\u001b[A\n",
            " 96%|█████████▋| 209/217 [00:19<00:00, 10.07it/s]\u001b[A\n",
            " 97%|█████████▋| 211/217 [00:20<00:00, 10.30it/s]\u001b[A\n",
            " 98%|█████████▊| 213/217 [00:20<00:00, 10.12it/s]\u001b[A\n",
            " 99%|█████████▉| 215/217 [00:20<00:00, 10.26it/s]\u001b[A\n",
            "100%|██████████| 217/217 [00:20<00:00, 10.48it/s]\n",
            "\n",
            "  0%|          | 0/217 [00:00<?, ?it/s]\u001b[A\n",
            "  1%|          | 2/217 [00:00<00:19, 10.75it/s]\u001b[A\n",
            "  2%|▏         | 4/217 [00:00<00:19, 10.66it/s]\u001b[A\n",
            "  3%|▎         | 6/217 [00:00<00:21,  9.78it/s]\u001b[A\n",
            "  3%|▎         | 7/217 [00:00<00:21,  9.69it/s]\u001b[A\n",
            "  4%|▎         | 8/217 [00:00<00:21,  9.68it/s]\u001b[A\n",
            "  5%|▍         | 10/217 [00:00<00:20, 10.18it/s]\u001b[A\n",
            "  6%|▌         | 12/217 [00:01<00:20, 10.07it/s]\u001b[A\n",
            "  6%|▋         | 14/217 [00:01<00:19, 10.25it/s]\u001b[A\n",
            "  7%|▋         | 16/217 [00:01<00:19, 10.16it/s]\u001b[A\n",
            "  8%|▊         | 18/217 [00:01<00:19, 10.31it/s]\u001b[A\n",
            "  9%|▉         | 20/217 [00:01<00:18, 10.46it/s]\u001b[A\n",
            " 10%|█         | 22/217 [00:02<00:18, 10.42it/s]\u001b[A\n",
            " 11%|█         | 24/217 [00:02<00:18, 10.51it/s]\u001b[A\n",
            " 12%|█▏        | 26/217 [00:02<00:18, 10.47it/s]\u001b[A\n",
            " 13%|█▎        | 28/217 [00:02<00:18, 10.48it/s]\u001b[A\n",
            " 14%|█▍        | 30/217 [00:02<00:17, 10.54it/s]\u001b[A\n",
            " 15%|█▍        | 32/217 [00:03<00:18, 10.26it/s]\u001b[A\n",
            " 16%|█▌        | 34/217 [00:03<00:17, 10.29it/s]\u001b[A\n",
            " 17%|█▋        | 36/217 [00:03<00:17, 10.24it/s]\u001b[A\n",
            " 18%|█▊        | 38/217 [00:03<00:17, 10.22it/s]\u001b[A\n",
            " 18%|█▊        | 40/217 [00:03<00:17, 10.40it/s]\u001b[A\n",
            " 19%|█▉        | 42/217 [00:04<00:17, 10.27it/s]\u001b[A\n",
            " 20%|██        | 44/217 [00:04<00:16, 10.37it/s]\u001b[A\n",
            " 21%|██        | 46/217 [00:04<00:16, 10.47it/s]\u001b[A\n",
            " 22%|██▏       | 48/217 [00:04<00:16, 10.41it/s]\u001b[A\n",
            " 23%|██▎       | 50/217 [00:04<00:15, 10.48it/s]\u001b[A\n",
            " 24%|██▍       | 52/217 [00:05<00:15, 10.49it/s]\u001b[A\n",
            " 25%|██▍       | 54/217 [00:05<00:15, 10.46it/s]\u001b[A\n",
            " 26%|██▌       | 56/217 [00:05<00:15, 10.41it/s]\u001b[A\n",
            " 27%|██▋       | 58/217 [00:05<00:15, 10.39it/s]\u001b[A\n",
            " 28%|██▊       | 60/217 [00:05<00:15, 10.34it/s]\u001b[A\n",
            " 29%|██▊       | 62/217 [00:06<00:14, 10.35it/s]\u001b[A\n",
            " 29%|██▉       | 64/217 [00:06<00:14, 10.40it/s]\u001b[A\n",
            " 30%|███       | 66/217 [00:06<00:14, 10.46it/s]\u001b[A\n",
            " 31%|███▏      | 68/217 [00:06<00:14, 10.46it/s]\u001b[A\n",
            " 32%|███▏      | 70/217 [00:06<00:14, 10.43it/s]\u001b[A\n",
            " 33%|███▎      | 72/217 [00:06<00:13, 10.50it/s]\u001b[A\n",
            " 34%|███▍      | 74/217 [00:07<00:13, 10.57it/s]\u001b[A\n",
            " 35%|███▌      | 76/217 [00:07<00:13, 10.47it/s]\u001b[A\n",
            " 36%|███▌      | 78/217 [00:07<00:13, 10.33it/s]\u001b[A\n",
            " 37%|███▋      | 80/217 [00:07<00:13, 10.33it/s]\u001b[A\n",
            " 38%|███▊      | 82/217 [00:07<00:13, 10.27it/s]\u001b[A\n",
            " 39%|███▊      | 84/217 [00:08<00:12, 10.23it/s]\u001b[A\n",
            " 40%|███▉      | 86/217 [00:08<00:12, 10.26it/s]\u001b[A\n",
            " 41%|████      | 88/217 [00:08<00:12, 10.17it/s]\u001b[A\n",
            " 41%|████▏     | 90/217 [00:08<00:12, 10.00it/s]\u001b[A\n",
            " 42%|████▏     | 92/217 [00:08<00:12,  9.83it/s]\u001b[A\n",
            " 43%|████▎     | 93/217 [00:09<00:12,  9.64it/s]\u001b[A\n",
            " 44%|████▍     | 95/217 [00:09<00:12, 10.00it/s]\u001b[A\n",
            " 44%|████▍     | 96/217 [00:09<00:12,  9.96it/s]\u001b[A\n",
            " 45%|████▌     | 98/217 [00:09<00:11, 10.08it/s]\u001b[A\n",
            " 46%|████▌     | 100/217 [00:09<00:11, 10.12it/s]\u001b[A\n",
            " 47%|████▋     | 102/217 [00:09<00:11, 10.16it/s]\u001b[A\n",
            " 48%|████▊     | 104/217 [00:10<00:10, 10.32it/s]\u001b[A\n",
            " 49%|████▉     | 106/217 [00:10<00:10, 10.13it/s]\u001b[A\n",
            " 50%|████▉     | 108/217 [00:10<00:10, 10.28it/s]\u001b[A\n",
            " 51%|█████     | 110/217 [00:10<00:10, 10.46it/s]\u001b[A\n",
            " 52%|█████▏    | 112/217 [00:10<00:10, 10.35it/s]\u001b[A\n",
            " 53%|█████▎    | 114/217 [00:11<00:10, 10.20it/s]\u001b[A\n",
            " 53%|█████▎    | 116/217 [00:11<00:10,  9.97it/s]\u001b[A\n",
            " 54%|█████▍    | 117/217 [00:11<00:10,  9.92it/s]\u001b[A\n",
            " 55%|█████▍    | 119/217 [00:11<00:09, 10.05it/s]\u001b[A\n",
            " 56%|█████▌    | 121/217 [00:11<00:09, 10.11it/s]\u001b[A\n",
            " 57%|█████▋    | 123/217 [00:11<00:09, 10.15it/s]\u001b[A\n",
            " 58%|█████▊    | 125/217 [00:12<00:09, 10.17it/s]\u001b[A\n",
            " 59%|█████▊    | 127/217 [00:12<00:08, 10.17it/s]\u001b[A\n",
            " 59%|█████▉    | 129/217 [00:12<00:08, 10.19it/s]\u001b[A\n",
            " 60%|██████    | 131/217 [00:12<00:08, 10.21it/s]\u001b[A\n",
            " 61%|██████▏   | 133/217 [00:12<00:08, 10.11it/s]\u001b[A\n",
            " 62%|██████▏   | 135/217 [00:13<00:08, 10.17it/s]\u001b[A\n",
            " 63%|██████▎   | 137/217 [00:13<00:07, 10.32it/s]\u001b[A\n",
            " 64%|██████▍   | 139/217 [00:13<00:07, 10.28it/s]\u001b[A\n",
            " 65%|██████▍   | 141/217 [00:13<00:07, 10.38it/s]\u001b[A\n",
            " 66%|██████▌   | 143/217 [00:13<00:07, 10.01it/s]\u001b[A\n",
            " 67%|██████▋   | 145/217 [00:14<00:07, 10.16it/s]\u001b[A\n",
            " 68%|██████▊   | 147/217 [00:14<00:06, 10.24it/s]\u001b[A\n",
            " 69%|██████▊   | 149/217 [00:14<00:07,  9.66it/s]\u001b[A\n",
            " 69%|██████▉   | 150/217 [00:14<00:10,  6.56it/s]\u001b[A\n",
            " 70%|██████▉   | 151/217 [00:15<00:12,  5.46it/s]\u001b[A\n",
            " 70%|███████   | 152/217 [00:15<00:11,  5.65it/s]\u001b[A\n",
            " 71%|███████   | 154/217 [00:15<00:09,  6.85it/s]\u001b[A\n",
            " 71%|███████▏  | 155/217 [00:15<00:08,  7.30it/s]\u001b[A\n",
            " 72%|███████▏  | 157/217 [00:15<00:08,  7.39it/s]\u001b[A\n",
            " 73%|███████▎  | 158/217 [00:16<00:10,  5.63it/s]\u001b[A\n",
            " 73%|███████▎  | 159/217 [00:16<00:12,  4.60it/s]\u001b[A\n",
            " 74%|███████▎  | 160/217 [00:16<00:10,  5.31it/s]\u001b[A\n",
            " 74%|███████▍  | 161/217 [00:16<00:09,  6.00it/s]\u001b[A\n",
            " 75%|███████▍  | 162/217 [00:16<00:08,  6.64it/s]\u001b[A\n",
            " 75%|███████▌  | 163/217 [00:17<00:07,  7.30it/s]\u001b[A\n",
            " 76%|███████▌  | 164/217 [00:17<00:07,  7.57it/s]\u001b[A\n",
            " 76%|███████▌  | 165/217 [00:17<00:10,  4.81it/s]\u001b[A\n",
            " 76%|███████▋  | 166/217 [00:17<00:12,  4.17it/s]\u001b[A\n",
            " 77%|███████▋  | 167/217 [00:18<00:10,  4.93it/s]\u001b[A\n",
            " 77%|███████▋  | 168/217 [00:18<00:08,  5.63it/s]\u001b[A\n",
            " 78%|███████▊  | 169/217 [00:18<00:07,  6.42it/s]\u001b[A\n",
            " 78%|███████▊  | 170/217 [00:18<00:06,  7.15it/s]\u001b[A\n",
            " 79%|███████▉  | 171/217 [00:18<00:06,  7.63it/s]\u001b[A\n",
            " 79%|███████▉  | 172/217 [00:18<00:05,  8.16it/s]\u001b[A\n",
            " 80%|███████▉  | 173/217 [00:18<00:05,  8.59it/s]\u001b[A\n",
            " 80%|████████  | 174/217 [00:18<00:04,  8.87it/s]\u001b[A\n",
            " 81%|████████  | 176/217 [00:18<00:04,  9.63it/s]\u001b[A\n",
            " 82%|████████▏ | 177/217 [00:19<00:04,  9.55it/s]\u001b[A\n",
            " 82%|████████▏ | 178/217 [00:19<00:04,  9.58it/s]\u001b[A\n",
            " 82%|████████▏ | 179/217 [00:19<00:03,  9.63it/s]\u001b[A\n",
            " 83%|████████▎ | 180/217 [00:19<00:03,  9.62it/s]\u001b[A\n",
            " 84%|████████▍ | 182/217 [00:19<00:03, 10.00it/s]\u001b[A\n",
            " 85%|████████▍ | 184/217 [00:19<00:03, 10.21it/s]\u001b[A\n",
            " 86%|████████▌ | 186/217 [00:19<00:03, 10.29it/s]\u001b[A\n",
            " 87%|████████▋ | 188/217 [00:20<00:02, 10.11it/s]\u001b[A\n",
            " 88%|████████▊ | 190/217 [00:20<00:02, 10.14it/s]\u001b[A\n",
            " 88%|████████▊ | 192/217 [00:20<00:02, 10.40it/s]\u001b[A\n",
            " 89%|████████▉ | 194/217 [00:20<00:02, 10.43it/s]\u001b[A\n",
            " 90%|█████████ | 196/217 [00:20<00:01, 10.59it/s]\u001b[A\n",
            " 91%|█████████ | 198/217 [00:21<00:01, 10.45it/s]\u001b[A\n",
            " 92%|█████████▏| 200/217 [00:21<00:01, 10.50it/s]\u001b[A\n",
            " 93%|█████████▎| 202/217 [00:21<00:01, 10.53it/s]\u001b[A\n",
            " 94%|█████████▍| 204/217 [00:21<00:01, 10.56it/s]\u001b[A\n",
            " 95%|█████████▍| 206/217 [00:21<00:01, 10.67it/s]\u001b[A\n",
            " 96%|█████████▌| 208/217 [00:22<00:00, 10.67it/s]\u001b[A\n",
            " 97%|█████████▋| 210/217 [00:22<00:00, 10.51it/s]\u001b[A\n",
            " 98%|█████████▊| 212/217 [00:22<00:00, 10.55it/s]\u001b[A\n",
            " 99%|█████████▊| 214/217 [00:22<00:00, 10.65it/s]\u001b[A\n",
            "100%|██████████| 217/217 [00:22<00:00,  9.51it/s]\n",
            "\n",
            "  0%|          | 0/217 [00:00<?, ?it/s]\u001b[A\n",
            "  1%|          | 2/217 [00:00<00:18, 11.53it/s]\u001b[A\n",
            "  2%|▏         | 4/217 [00:00<00:19, 10.82it/s]\u001b[A\n",
            "  3%|▎         | 6/217 [00:00<00:20, 10.32it/s]\u001b[A\n",
            "  4%|▎         | 8/217 [00:00<00:19, 10.50it/s]\u001b[A\n",
            "  5%|▍         | 10/217 [00:00<00:19, 10.66it/s]\u001b[A\n",
            "  6%|▌         | 12/217 [00:01<00:19, 10.77it/s]\u001b[A\n",
            "  6%|▋         | 14/217 [00:01<00:19, 10.54it/s]\u001b[A\n",
            "  7%|▋         | 16/217 [00:01<00:19, 10.48it/s]\u001b[A\n",
            "  8%|▊         | 18/217 [00:01<00:18, 10.63it/s]\u001b[A\n",
            "  9%|▉         | 20/217 [00:01<00:18, 10.80it/s]\u001b[A\n",
            " 10%|█         | 22/217 [00:02<00:18, 10.78it/s]\u001b[A\n",
            " 11%|█         | 24/217 [00:02<00:17, 10.87it/s]\u001b[A\n",
            " 12%|█▏        | 26/217 [00:02<00:17, 10.70it/s]\u001b[A\n",
            " 13%|█▎        | 28/217 [00:02<00:17, 10.66it/s]\u001b[A\n",
            " 14%|█▍        | 30/217 [00:02<00:17, 10.66it/s]\u001b[A\n",
            " 15%|█▍        | 32/217 [00:02<00:17, 10.72it/s]\u001b[A\n",
            " 16%|█▌        | 34/217 [00:03<00:17, 10.76it/s]\u001b[A\n",
            " 17%|█▋        | 36/217 [00:03<00:17, 10.64it/s]\u001b[A\n",
            " 18%|█▊        | 38/217 [00:03<00:16, 10.75it/s]\u001b[A\n",
            " 18%|█▊        | 40/217 [00:03<00:16, 10.66it/s]\u001b[A\n",
            " 19%|█▉        | 42/217 [00:03<00:16, 10.62it/s]\u001b[A\n",
            " 20%|██        | 44/217 [00:04<00:16, 10.59it/s]\u001b[A\n",
            " 21%|██        | 46/217 [00:04<00:16, 10.38it/s]\u001b[A\n",
            " 22%|██▏       | 48/217 [00:04<00:16, 10.42it/s]\u001b[A\n",
            " 23%|██▎       | 50/217 [00:04<00:15, 10.52it/s]\u001b[A\n",
            " 24%|██▍       | 52/217 [00:04<00:15, 10.71it/s]\u001b[A\n",
            " 25%|██▍       | 54/217 [00:05<00:15, 10.61it/s]\u001b[A\n",
            " 26%|██▌       | 56/217 [00:05<00:15, 10.65it/s]\u001b[A\n",
            " 27%|██▋       | 58/217 [00:05<00:15, 10.32it/s]\u001b[A\n",
            " 28%|██▊       | 60/217 [00:05<00:15, 10.06it/s]\u001b[A\n",
            " 29%|██▊       | 62/217 [00:05<00:15, 10.08it/s]\u001b[A\n",
            " 29%|██▉       | 64/217 [00:06<00:15, 10.19it/s]\u001b[A\n",
            " 30%|███       | 66/217 [00:06<00:14, 10.34it/s]\u001b[A\n",
            " 31%|███▏      | 68/217 [00:06<00:14, 10.23it/s]\u001b[A\n",
            " 32%|███▏      | 70/217 [00:06<00:14, 10.16it/s]\u001b[A\n",
            " 33%|███▎      | 72/217 [00:06<00:14, 10.25it/s]\u001b[A\n",
            " 34%|███▍      | 74/217 [00:07<00:13, 10.41it/s]\u001b[A\n",
            " 35%|███▌      | 76/217 [00:07<00:13, 10.30it/s]\u001b[A\n",
            " 36%|███▌      | 78/217 [00:07<00:13, 10.31it/s]\u001b[A\n",
            " 37%|███▋      | 80/217 [00:07<00:13, 10.15it/s]\u001b[A\n",
            " 38%|███▊      | 82/217 [00:07<00:13, 10.06it/s]\u001b[A\n",
            " 39%|███▊      | 84/217 [00:08<00:13, 10.03it/s]\u001b[A\n",
            " 40%|███▉      | 86/217 [00:08<00:13, 10.07it/s]\u001b[A\n",
            " 41%|████      | 88/217 [00:08<00:12,  9.93it/s]\u001b[A\n",
            " 41%|████      | 89/217 [00:08<00:13,  9.76it/s]\u001b[A\n",
            " 41%|████▏     | 90/217 [00:08<00:13,  9.60it/s]\u001b[A\n",
            " 42%|████▏     | 92/217 [00:08<00:12,  9.83it/s]\u001b[A\n",
            " 43%|████▎     | 94/217 [00:09<00:12, 10.11it/s]\u001b[A\n",
            " 44%|████▍     | 96/217 [00:09<00:11, 10.19it/s]\u001b[A\n",
            " 45%|████▌     | 98/217 [00:09<00:11, 10.19it/s]\u001b[A\n",
            " 46%|████▌     | 100/217 [00:09<00:11, 10.24it/s]\u001b[A\n",
            " 47%|████▋     | 102/217 [00:09<00:11, 10.36it/s]\u001b[A\n",
            " 48%|████▊     | 104/217 [00:10<00:10, 10.37it/s]\u001b[A\n",
            " 49%|████▉     | 106/217 [00:10<00:10, 10.32it/s]\u001b[A\n",
            " 50%|████▉     | 108/217 [00:10<00:10, 10.41it/s]\u001b[A\n",
            " 51%|█████     | 110/217 [00:10<00:10, 10.16it/s]\u001b[A\n",
            " 52%|█████▏    | 112/217 [00:10<00:10, 10.21it/s]\u001b[A\n",
            " 53%|█████▎    | 114/217 [00:10<00:09, 10.40it/s]\u001b[A\n",
            " 53%|█████▎    | 116/217 [00:11<00:09, 10.35it/s]\u001b[A\n",
            " 54%|█████▍    | 118/217 [00:11<00:09, 10.39it/s]\u001b[A\n",
            " 55%|█████▌    | 120/217 [00:11<00:09, 10.32it/s]\u001b[A\n",
            " 56%|█████▌    | 122/217 [00:11<00:09, 10.28it/s]\u001b[A\n",
            " 57%|█████▋    | 124/217 [00:11<00:08, 10.44it/s]\u001b[A\n",
            " 58%|█████▊    | 126/217 [00:12<00:08, 10.50it/s]\u001b[A\n",
            " 59%|█████▉    | 128/217 [00:12<00:08, 10.55it/s]\u001b[A\n",
            " 60%|█████▉    | 130/217 [00:12<00:08, 10.63it/s]\u001b[A\n",
            " 61%|██████    | 132/217 [00:12<00:08, 10.42it/s]\u001b[A\n",
            " 62%|██████▏   | 134/217 [00:12<00:07, 10.43it/s]\u001b[A\n",
            " 63%|██████▎   | 136/217 [00:13<00:07, 10.51it/s]\u001b[A\n",
            " 64%|██████▎   | 138/217 [00:13<00:07, 10.57it/s]\u001b[A\n",
            " 65%|██████▍   | 140/217 [00:13<00:07, 10.52it/s]\u001b[A\n",
            " 65%|██████▌   | 142/217 [00:13<00:07, 10.48it/s]\u001b[A\n",
            " 66%|██████▋   | 144/217 [00:13<00:06, 10.65it/s]\u001b[A\n",
            " 67%|██████▋   | 146/217 [00:14<00:06, 10.62it/s]\u001b[A\n",
            " 68%|██████▊   | 148/217 [00:14<00:06, 10.48it/s]\u001b[A\n",
            " 69%|██████▉   | 150/217 [00:14<00:06, 10.62it/s]\u001b[A\n",
            " 70%|███████   | 152/217 [00:14<00:06, 10.45it/s]\u001b[A\n",
            " 71%|███████   | 154/217 [00:14<00:05, 10.51it/s]\u001b[A\n",
            " 72%|███████▏  | 156/217 [00:14<00:05, 10.57it/s]\u001b[A\n",
            " 73%|███████▎  | 158/217 [00:15<00:05, 10.60it/s]\u001b[A\n",
            " 74%|███████▎  | 160/217 [00:15<00:05, 10.67it/s]\u001b[A\n",
            " 75%|███████▍  | 162/217 [00:15<00:05, 10.45it/s]\u001b[A\n",
            " 76%|███████▌  | 164/217 [00:15<00:05, 10.29it/s]\u001b[A\n",
            " 76%|███████▋  | 166/217 [00:15<00:04, 10.21it/s]\u001b[A\n",
            " 77%|███████▋  | 168/217 [00:16<00:04, 10.20it/s]\u001b[A\n",
            " 78%|███████▊  | 170/217 [00:16<00:04, 10.31it/s]\u001b[A\n",
            " 79%|███████▉  | 172/217 [00:16<00:04, 10.52it/s]\u001b[A\n",
            " 80%|████████  | 174/217 [00:16<00:04, 10.39it/s]\u001b[A\n",
            " 81%|████████  | 176/217 [00:16<00:03, 10.34it/s]\u001b[A\n",
            " 82%|████████▏ | 178/217 [00:17<00:03, 10.38it/s]\u001b[A\n",
            " 83%|████████▎ | 180/217 [00:17<00:03, 10.31it/s]\u001b[A\n",
            " 84%|████████▍ | 182/217 [00:17<00:03, 10.55it/s]\u001b[A\n",
            " 85%|████████▍ | 184/217 [00:17<00:03, 10.40it/s]\u001b[A\n",
            " 86%|████████▌ | 186/217 [00:17<00:02, 10.46it/s]\u001b[A\n",
            " 87%|████████▋ | 188/217 [00:18<00:02, 10.55it/s]\u001b[A\n",
            " 88%|████████▊ | 190/217 [00:18<00:02, 10.50it/s]\u001b[A\n",
            " 88%|████████▊ | 192/217 [00:18<00:02, 10.34it/s]\u001b[A\n",
            " 89%|████████▉ | 194/217 [00:18<00:02, 10.52it/s]\u001b[A\n",
            " 90%|█████████ | 196/217 [00:18<00:02, 10.43it/s]\u001b[A\n",
            " 91%|█████████ | 198/217 [00:19<00:01, 10.57it/s]\u001b[A\n",
            " 92%|█████████▏| 200/217 [00:19<00:01, 10.69it/s]\u001b[A\n",
            " 93%|█████████▎| 202/217 [00:19<00:01, 10.75it/s]\u001b[A\n",
            " 94%|█████████▍| 204/217 [00:19<00:01, 10.76it/s]\u001b[A\n",
            " 95%|█████████▍| 206/217 [00:19<00:01, 10.50it/s]\u001b[A\n",
            " 96%|█████████▌| 208/217 [00:19<00:00, 10.53it/s]\u001b[A\n",
            " 97%|█████████▋| 210/217 [00:20<00:00, 10.58it/s]\u001b[A\n",
            " 98%|█████████▊| 212/217 [00:20<00:00, 10.58it/s]\u001b[A\n",
            " 99%|█████████▊| 214/217 [00:20<00:00, 10.58it/s]\u001b[A\n",
            "100%|██████████| 217/217 [00:20<00:00, 10.46it/s]\n",
            "\n",
            "  0%|          | 0/217 [00:00<?, ?it/s]\u001b[A\n",
            "  1%|          | 2/217 [00:00<00:19, 10.85it/s]\u001b[A\n",
            "  2%|▏         | 4/217 [00:00<00:20, 10.51it/s]\u001b[A\n",
            "  3%|▎         | 6/217 [00:00<00:19, 10.57it/s]\u001b[A\n",
            "  4%|▎         | 8/217 [00:00<00:19, 10.69it/s]\u001b[A\n",
            "  5%|▍         | 10/217 [00:00<00:19, 10.78it/s]\u001b[A\n",
            "  6%|▌         | 12/217 [00:01<00:19, 10.58it/s]\u001b[A\n",
            "  6%|▋         | 14/217 [00:01<00:19, 10.52it/s]\u001b[A\n",
            "  7%|▋         | 16/217 [00:01<00:19, 10.26it/s]\u001b[A\n",
            "  8%|▊         | 18/217 [00:01<00:19, 10.25it/s]\u001b[A\n",
            "  9%|▉         | 20/217 [00:01<00:18, 10.44it/s]\u001b[A\n",
            " 10%|█         | 22/217 [00:02<00:19, 10.25it/s]\u001b[A\n",
            " 11%|█         | 24/217 [00:02<00:18, 10.37it/s]\u001b[A\n",
            " 12%|█▏        | 26/217 [00:02<00:18, 10.41it/s]\u001b[A\n",
            " 13%|█▎        | 28/217 [00:02<00:18, 10.50it/s]\u001b[A\n",
            " 14%|█▍        | 30/217 [00:02<00:17, 10.58it/s]\u001b[A\n",
            " 15%|█▍        | 32/217 [00:03<00:17, 10.52it/s]\u001b[A\n",
            " 16%|█▌        | 34/217 [00:03<00:17, 10.51it/s]\u001b[A\n",
            " 17%|█▋        | 36/217 [00:03<00:17, 10.40it/s]\u001b[A\n",
            " 18%|█▊        | 38/217 [00:03<00:17, 10.50it/s]\u001b[A\n",
            " 18%|█▊        | 40/217 [00:03<00:16, 10.42it/s]\u001b[A\n",
            " 19%|█▉        | 42/217 [00:04<00:16, 10.47it/s]\u001b[A\n",
            " 20%|██        | 44/217 [00:04<00:16, 10.50it/s]\u001b[A\n",
            " 21%|██        | 46/217 [00:04<00:16, 10.50it/s]\u001b[A\n",
            " 22%|██▏       | 48/217 [00:04<00:16, 10.48it/s]\u001b[A\n",
            " 23%|██▎       | 50/217 [00:04<00:15, 10.52it/s]\u001b[A\n",
            " 24%|██▍       | 52/217 [00:04<00:15, 10.43it/s]\u001b[A\n",
            " 25%|██▍       | 54/217 [00:05<00:15, 10.24it/s]\u001b[A\n",
            " 26%|██▌       | 56/217 [00:05<00:15, 10.40it/s]\u001b[A\n",
            " 27%|██▋       | 58/217 [00:05<00:15, 10.36it/s]\u001b[A\n",
            " 28%|██▊       | 60/217 [00:05<00:15, 10.28it/s]\u001b[A\n",
            " 29%|██▊       | 62/217 [00:05<00:14, 10.40it/s]\u001b[A\n",
            " 29%|██▉       | 64/217 [00:06<00:14, 10.40it/s]\u001b[A\n",
            " 30%|███       | 66/217 [00:06<00:14, 10.54it/s]\u001b[A\n",
            " 31%|███▏      | 68/217 [00:06<00:14, 10.46it/s]\u001b[A\n",
            " 32%|███▏      | 70/217 [00:06<00:14, 10.31it/s]\u001b[A\n",
            " 33%|███▎      | 72/217 [00:06<00:13, 10.39it/s]\u001b[A\n",
            " 34%|███▍      | 74/217 [00:07<00:13, 10.58it/s]\u001b[A\n",
            " 35%|███▌      | 76/217 [00:07<00:13, 10.49it/s]\u001b[A\n",
            " 36%|███▌      | 78/217 [00:07<00:13, 10.64it/s]\u001b[A\n",
            " 37%|███▋      | 80/217 [00:07<00:12, 10.71it/s]\u001b[A\n",
            " 38%|███▊      | 82/217 [00:07<00:12, 10.68it/s]\u001b[A\n",
            " 39%|███▊      | 84/217 [00:08<00:12, 10.79it/s]\u001b[A\n",
            " 40%|███▉      | 86/217 [00:08<00:12, 10.68it/s]\u001b[A\n",
            " 41%|████      | 88/217 [00:08<00:11, 10.78it/s]\u001b[A\n",
            " 41%|████▏     | 90/217 [00:08<00:11, 10.69it/s]\u001b[A\n",
            " 42%|████▏     | 92/217 [00:08<00:11, 10.62it/s]\u001b[A\n",
            " 43%|████▎     | 94/217 [00:08<00:11, 10.59it/s]\u001b[A\n",
            " 44%|████▍     | 96/217 [00:09<00:11, 10.57it/s]\u001b[A\n",
            " 45%|████▌     | 98/217 [00:09<00:11, 10.45it/s]\u001b[A\n",
            " 46%|████▌     | 100/217 [00:09<00:11, 10.39it/s]\u001b[A\n",
            " 47%|████▋     | 102/217 [00:09<00:10, 10.52it/s]\u001b[A\n",
            " 48%|████▊     | 104/217 [00:09<00:10, 10.43it/s]\u001b[A\n",
            " 49%|████▉     | 106/217 [00:10<00:10, 10.47it/s]\u001b[A\n",
            " 50%|████▉     | 108/217 [00:10<00:10, 10.26it/s]\u001b[A\n",
            " 51%|█████     | 110/217 [00:10<00:10, 10.27it/s]\u001b[A\n",
            " 52%|█████▏    | 112/217 [00:10<00:10, 10.31it/s]\u001b[A\n",
            " 53%|█████▎    | 114/217 [00:10<00:10, 10.21it/s]\u001b[A\n",
            " 53%|█████▎    | 116/217 [00:11<00:09, 10.36it/s]\u001b[A\n",
            " 54%|█████▍    | 118/217 [00:11<00:09, 10.30it/s]\u001b[A\n",
            " 55%|█████▌    | 120/217 [00:11<00:09, 10.27it/s]\u001b[A\n",
            " 56%|█████▌    | 122/217 [00:11<00:09, 10.38it/s]\u001b[A\n",
            " 57%|█████▋    | 124/217 [00:11<00:08, 10.35it/s]\u001b[A\n",
            " 58%|█████▊    | 126/217 [00:12<00:08, 10.29it/s]\u001b[A\n",
            " 59%|█████▉    | 128/217 [00:12<00:08, 10.14it/s]\u001b[A\n",
            " 60%|█████▉    | 130/217 [00:12<00:08, 10.39it/s]\u001b[A\n",
            " 61%|██████    | 132/217 [00:12<00:08, 10.27it/s]\u001b[A\n",
            " 62%|██████▏   | 134/217 [00:12<00:07, 10.41it/s]\u001b[A\n",
            " 63%|██████▎   | 136/217 [00:13<00:07, 10.44it/s]\u001b[A\n",
            " 64%|██████▎   | 138/217 [00:13<00:07, 10.54it/s]\u001b[A\n",
            " 65%|██████▍   | 140/217 [00:13<00:07, 10.39it/s]\u001b[A\n",
            " 65%|██████▌   | 142/217 [00:13<00:07, 10.48it/s]\u001b[A\n",
            " 66%|██████▋   | 144/217 [00:13<00:07, 10.42it/s]\u001b[A\n",
            " 67%|██████▋   | 146/217 [00:13<00:06, 10.40it/s]\u001b[A\n",
            " 68%|██████▊   | 148/217 [00:14<00:06, 10.53it/s]\u001b[A\n",
            " 69%|██████▉   | 150/217 [00:14<00:06, 10.57it/s]\u001b[A\n",
            " 70%|███████   | 152/217 [00:14<00:06, 10.59it/s]\u001b[A\n",
            " 71%|███████   | 154/217 [00:14<00:05, 10.54it/s]\u001b[A\n",
            " 72%|███████▏  | 156/217 [00:14<00:05, 10.55it/s]\u001b[A\n",
            " 73%|███████▎  | 158/217 [00:15<00:05, 10.65it/s]\u001b[A\n",
            " 74%|███████▎  | 160/217 [00:15<00:05, 10.49it/s]\u001b[A\n",
            " 75%|███████▍  | 162/217 [00:15<00:05, 10.34it/s]\u001b[A\n",
            " 76%|███████▌  | 164/217 [00:15<00:05, 10.33it/s]\u001b[A\n",
            " 76%|███████▋  | 166/217 [00:15<00:04, 10.24it/s]\u001b[A\n",
            " 77%|███████▋  | 168/217 [00:16<00:04, 10.15it/s]\u001b[A\n",
            " 78%|███████▊  | 170/217 [00:16<00:04, 10.20it/s]\u001b[A\n",
            " 79%|███████▉  | 172/217 [00:16<00:04, 10.11it/s]\u001b[A\n",
            " 80%|████████  | 174/217 [00:16<00:04, 10.21it/s]\u001b[A\n",
            " 81%|████████  | 176/217 [00:16<00:03, 10.31it/s]\u001b[A\n",
            " 82%|████████▏ | 178/217 [00:17<00:03, 10.06it/s]\u001b[A\n",
            " 83%|████████▎ | 180/217 [00:17<00:03, 10.20it/s]\u001b[A\n",
            " 84%|████████▍ | 182/217 [00:17<00:03, 10.19it/s]\u001b[A\n",
            " 85%|████████▍ | 184/217 [00:17<00:03, 10.31it/s]\u001b[A\n",
            " 86%|████████▌ | 186/217 [00:17<00:03, 10.00it/s]\u001b[A\n",
            " 87%|████████▋ | 188/217 [00:18<00:02, 10.06it/s]\u001b[A\n",
            " 88%|████████▊ | 190/217 [00:18<00:02, 10.14it/s]\u001b[A\n",
            " 88%|████████▊ | 192/217 [00:18<00:02, 10.14it/s]\u001b[A\n",
            " 89%|████████▉ | 194/217 [00:18<00:02, 10.09it/s]\u001b[A\n",
            " 90%|█████████ | 196/217 [00:18<00:02, 10.21it/s]\u001b[A\n",
            " 91%|█████████ | 198/217 [00:19<00:01, 10.36it/s]\u001b[A\n",
            " 92%|█████████▏| 200/217 [00:19<00:01, 10.35it/s]\u001b[A\n",
            " 93%|█████████▎| 202/217 [00:19<00:01, 10.35it/s]\u001b[A\n",
            " 94%|█████████▍| 204/217 [00:19<00:01, 10.38it/s]\u001b[A\n",
            " 95%|█████████▍| 206/217 [00:19<00:01, 10.60it/s]\u001b[A\n",
            " 96%|█████████▌| 208/217 [00:19<00:00, 10.53it/s]\u001b[A\n",
            " 97%|█████████▋| 210/217 [00:20<00:00, 10.53it/s]\u001b[A\n",
            " 98%|█████████▊| 212/217 [00:20<00:00, 10.50it/s]\u001b[A\n",
            " 99%|█████████▊| 214/217 [00:20<00:00, 10.30it/s]\u001b[A\n",
            "100%|██████████| 217/217 [00:20<00:00, 10.44it/s]\n"
          ]
        }
      ]
    },
    {
      "cell_type": "code",
      "source": [
        "accuracy = acc\n",
        "print(accuracy)"
      ],
      "metadata": {
        "id": "a1IDm0KIOBkV",
        "colab": {
          "base_uri": "https://localhost:8080/"
        },
        "outputId": "240ceb9a-3da8-4c7f-cbc5-80d0ecfa416f"
      },
      "execution_count": 62,
      "outputs": [
        {
          "output_type": "stream",
          "name": "stdout",
          "text": [
            "0.5815092165898618\n"
          ]
        }
      ]
    }
  ]
}