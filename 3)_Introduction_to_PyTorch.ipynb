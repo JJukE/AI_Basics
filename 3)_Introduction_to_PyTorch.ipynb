{
  "nbformat": 4,
  "nbformat_minor": 0,
  "metadata": {
    "colab": {
      "provenance": [],
      "collapsed_sections": []
    },
    "kernelspec": {
      "name": "python3",
      "display_name": "Python 3"
    },
    "widgets": {
      "application/vnd.jupyter.widget-state+json": {
        "d90dd76fcd764ecc8eaeffc8955aa646": {
          "model_module": "@jupyter-widgets/controls",
          "model_name": "HBoxModel",
          "model_module_version": "1.5.0",
          "state": {
            "_dom_classes": [],
            "_model_module": "@jupyter-widgets/controls",
            "_model_module_version": "1.5.0",
            "_model_name": "HBoxModel",
            "_view_count": null,
            "_view_module": "@jupyter-widgets/controls",
            "_view_module_version": "1.5.0",
            "_view_name": "HBoxView",
            "box_style": "",
            "children": [
              "IPY_MODEL_0c276bc933ba4bc483a5ed05682d21f3",
              "IPY_MODEL_3836a248f9004ed081a558ec4617e107",
              "IPY_MODEL_b7df9d76050b49aba9545d1cf68e86d2"
            ],
            "layout": "IPY_MODEL_83eba2eb3b4b471fa56e5a4e529fcc6b"
          }
        },
        "0c276bc933ba4bc483a5ed05682d21f3": {
          "model_module": "@jupyter-widgets/controls",
          "model_name": "HTMLModel",
          "model_module_version": "1.5.0",
          "state": {
            "_dom_classes": [],
            "_model_module": "@jupyter-widgets/controls",
            "_model_module_version": "1.5.0",
            "_model_name": "HTMLModel",
            "_view_count": null,
            "_view_module": "@jupyter-widgets/controls",
            "_view_module_version": "1.5.0",
            "_view_name": "HTMLView",
            "description": "",
            "description_tooltip": null,
            "layout": "IPY_MODEL_cc8d074fe60a474596d118fc81549df3",
            "placeholder": "​",
            "style": "IPY_MODEL_be51e9ddc1364702a07dfa8dbcceccd8",
            "value": "100%"
          }
        },
        "3836a248f9004ed081a558ec4617e107": {
          "model_module": "@jupyter-widgets/controls",
          "model_name": "FloatProgressModel",
          "model_module_version": "1.5.0",
          "state": {
            "_dom_classes": [],
            "_model_module": "@jupyter-widgets/controls",
            "_model_module_version": "1.5.0",
            "_model_name": "FloatProgressModel",
            "_view_count": null,
            "_view_module": "@jupyter-widgets/controls",
            "_view_module_version": "1.5.0",
            "_view_name": "ProgressView",
            "bar_style": "success",
            "description": "",
            "description_tooltip": null,
            "layout": "IPY_MODEL_5c3b71fdc1734fd0a548d9dd104cbae9",
            "max": 1000,
            "min": 0,
            "orientation": "horizontal",
            "style": "IPY_MODEL_8b13306326404f2a951c87b3e84032a1",
            "value": 1000
          }
        },
        "b7df9d76050b49aba9545d1cf68e86d2": {
          "model_module": "@jupyter-widgets/controls",
          "model_name": "HTMLModel",
          "model_module_version": "1.5.0",
          "state": {
            "_dom_classes": [],
            "_model_module": "@jupyter-widgets/controls",
            "_model_module_version": "1.5.0",
            "_model_name": "HTMLModel",
            "_view_count": null,
            "_view_module": "@jupyter-widgets/controls",
            "_view_module_version": "1.5.0",
            "_view_name": "HTMLView",
            "description": "",
            "description_tooltip": null,
            "layout": "IPY_MODEL_dd0b906039b1438893bbf07a4647bd60",
            "placeholder": "​",
            "style": "IPY_MODEL_806255b8ba174e809b1da7a642513797",
            "value": " 1000/1000 [00:10&lt;00:00, 116.40it/s]"
          }
        },
        "83eba2eb3b4b471fa56e5a4e529fcc6b": {
          "model_module": "@jupyter-widgets/base",
          "model_name": "LayoutModel",
          "model_module_version": "1.2.0",
          "state": {
            "_model_module": "@jupyter-widgets/base",
            "_model_module_version": "1.2.0",
            "_model_name": "LayoutModel",
            "_view_count": null,
            "_view_module": "@jupyter-widgets/base",
            "_view_module_version": "1.2.0",
            "_view_name": "LayoutView",
            "align_content": null,
            "align_items": null,
            "align_self": null,
            "border": null,
            "bottom": null,
            "display": null,
            "flex": null,
            "flex_flow": null,
            "grid_area": null,
            "grid_auto_columns": null,
            "grid_auto_flow": null,
            "grid_auto_rows": null,
            "grid_column": null,
            "grid_gap": null,
            "grid_row": null,
            "grid_template_areas": null,
            "grid_template_columns": null,
            "grid_template_rows": null,
            "height": null,
            "justify_content": null,
            "justify_items": null,
            "left": null,
            "margin": null,
            "max_height": null,
            "max_width": null,
            "min_height": null,
            "min_width": null,
            "object_fit": null,
            "object_position": null,
            "order": null,
            "overflow": null,
            "overflow_x": null,
            "overflow_y": null,
            "padding": null,
            "right": null,
            "top": null,
            "visibility": null,
            "width": null
          }
        },
        "cc8d074fe60a474596d118fc81549df3": {
          "model_module": "@jupyter-widgets/base",
          "model_name": "LayoutModel",
          "model_module_version": "1.2.0",
          "state": {
            "_model_module": "@jupyter-widgets/base",
            "_model_module_version": "1.2.0",
            "_model_name": "LayoutModel",
            "_view_count": null,
            "_view_module": "@jupyter-widgets/base",
            "_view_module_version": "1.2.0",
            "_view_name": "LayoutView",
            "align_content": null,
            "align_items": null,
            "align_self": null,
            "border": null,
            "bottom": null,
            "display": null,
            "flex": null,
            "flex_flow": null,
            "grid_area": null,
            "grid_auto_columns": null,
            "grid_auto_flow": null,
            "grid_auto_rows": null,
            "grid_column": null,
            "grid_gap": null,
            "grid_row": null,
            "grid_template_areas": null,
            "grid_template_columns": null,
            "grid_template_rows": null,
            "height": null,
            "justify_content": null,
            "justify_items": null,
            "left": null,
            "margin": null,
            "max_height": null,
            "max_width": null,
            "min_height": null,
            "min_width": null,
            "object_fit": null,
            "object_position": null,
            "order": null,
            "overflow": null,
            "overflow_x": null,
            "overflow_y": null,
            "padding": null,
            "right": null,
            "top": null,
            "visibility": null,
            "width": null
          }
        },
        "be51e9ddc1364702a07dfa8dbcceccd8": {
          "model_module": "@jupyter-widgets/controls",
          "model_name": "DescriptionStyleModel",
          "model_module_version": "1.5.0",
          "state": {
            "_model_module": "@jupyter-widgets/controls",
            "_model_module_version": "1.5.0",
            "_model_name": "DescriptionStyleModel",
            "_view_count": null,
            "_view_module": "@jupyter-widgets/base",
            "_view_module_version": "1.2.0",
            "_view_name": "StyleView",
            "description_width": ""
          }
        },
        "5c3b71fdc1734fd0a548d9dd104cbae9": {
          "model_module": "@jupyter-widgets/base",
          "model_name": "LayoutModel",
          "model_module_version": "1.2.0",
          "state": {
            "_model_module": "@jupyter-widgets/base",
            "_model_module_version": "1.2.0",
            "_model_name": "LayoutModel",
            "_view_count": null,
            "_view_module": "@jupyter-widgets/base",
            "_view_module_version": "1.2.0",
            "_view_name": "LayoutView",
            "align_content": null,
            "align_items": null,
            "align_self": null,
            "border": null,
            "bottom": null,
            "display": null,
            "flex": null,
            "flex_flow": null,
            "grid_area": null,
            "grid_auto_columns": null,
            "grid_auto_flow": null,
            "grid_auto_rows": null,
            "grid_column": null,
            "grid_gap": null,
            "grid_row": null,
            "grid_template_areas": null,
            "grid_template_columns": null,
            "grid_template_rows": null,
            "height": null,
            "justify_content": null,
            "justify_items": null,
            "left": null,
            "margin": null,
            "max_height": null,
            "max_width": null,
            "min_height": null,
            "min_width": null,
            "object_fit": null,
            "object_position": null,
            "order": null,
            "overflow": null,
            "overflow_x": null,
            "overflow_y": null,
            "padding": null,
            "right": null,
            "top": null,
            "visibility": null,
            "width": null
          }
        },
        "8b13306326404f2a951c87b3e84032a1": {
          "model_module": "@jupyter-widgets/controls",
          "model_name": "ProgressStyleModel",
          "model_module_version": "1.5.0",
          "state": {
            "_model_module": "@jupyter-widgets/controls",
            "_model_module_version": "1.5.0",
            "_model_name": "ProgressStyleModel",
            "_view_count": null,
            "_view_module": "@jupyter-widgets/base",
            "_view_module_version": "1.2.0",
            "_view_name": "StyleView",
            "bar_color": null,
            "description_width": ""
          }
        },
        "dd0b906039b1438893bbf07a4647bd60": {
          "model_module": "@jupyter-widgets/base",
          "model_name": "LayoutModel",
          "model_module_version": "1.2.0",
          "state": {
            "_model_module": "@jupyter-widgets/base",
            "_model_module_version": "1.2.0",
            "_model_name": "LayoutModel",
            "_view_count": null,
            "_view_module": "@jupyter-widgets/base",
            "_view_module_version": "1.2.0",
            "_view_name": "LayoutView",
            "align_content": null,
            "align_items": null,
            "align_self": null,
            "border": null,
            "bottom": null,
            "display": null,
            "flex": null,
            "flex_flow": null,
            "grid_area": null,
            "grid_auto_columns": null,
            "grid_auto_flow": null,
            "grid_auto_rows": null,
            "grid_column": null,
            "grid_gap": null,
            "grid_row": null,
            "grid_template_areas": null,
            "grid_template_columns": null,
            "grid_template_rows": null,
            "height": null,
            "justify_content": null,
            "justify_items": null,
            "left": null,
            "margin": null,
            "max_height": null,
            "max_width": null,
            "min_height": null,
            "min_width": null,
            "object_fit": null,
            "object_position": null,
            "order": null,
            "overflow": null,
            "overflow_x": null,
            "overflow_y": null,
            "padding": null,
            "right": null,
            "top": null,
            "visibility": null,
            "width": null
          }
        },
        "806255b8ba174e809b1da7a642513797": {
          "model_module": "@jupyter-widgets/controls",
          "model_name": "DescriptionStyleModel",
          "model_module_version": "1.5.0",
          "state": {
            "_model_module": "@jupyter-widgets/controls",
            "_model_module_version": "1.5.0",
            "_model_name": "DescriptionStyleModel",
            "_view_count": null,
            "_view_module": "@jupyter-widgets/base",
            "_view_module_version": "1.2.0",
            "_view_name": "StyleView",
            "description_width": ""
          }
        }
      }
    }
  },
  "cells": [
    {
      "cell_type": "markdown",
      "metadata": {
        "id": "EAnVFOzm8e54"
      },
      "source": [
        "# Import Packages"
      ]
    },
    {
      "cell_type": "code",
      "metadata": {
        "id": "JFj1uat-xARX"
      },
      "source": [
        "import os\n",
        "import pickle\n",
        "\n",
        "# To see the progress\n",
        "from tqdm.notebook import tqdm\n",
        "\n",
        "import numpy as np\n",
        "\n",
        "# For visualization\n",
        "import matplotlib.pyplot as plt\n",
        "\n",
        "# Things related to the pytorch\n",
        "import torch                                        # main pytorch package\n",
        "import torch.nn as nn                               # pytorch module for neural network\n",
        "from torch.utils.data import Dataset, DataLoader    # pytorch utils for dataset"
      ],
      "execution_count": 1,
      "outputs": []
    },
    {
      "cell_type": "markdown",
      "metadata": {
        "id": "m3snXumO88G7"
      },
      "source": [
        "# Make the dataset! add noise to the linear function\n",
        "- gt_w, gt_b : ground truth weight and bias for linear regression\n",
        "- x : random points\n",
        "- y : gt_w * x + gt_b + (gaussian) noise"
      ]
    },
    {
      "cell_type": "code",
      "metadata": {
        "id": "VcRUliGFxeH6",
        "outputId": "88e734cb-ac1f-4fac-c971-fa4a533c4255",
        "colab": {
          "base_uri": "https://localhost:8080/"
        }
      },
      "source": [
        "### make the linear dataset. Define the gt_w and gt_b as you want\n",
        "gt_w = 4.0\n",
        "gt_b = -2.0\n",
        "# y = gt_w * x + gt_b + noise\n",
        "\n",
        "### define the number of data, and value of noise to add to wx+b.\n",
        "num_data = 1000\n",
        "noise_value = 2\n",
        "\n",
        "### Sample some random X between range -1~1 / or range you want..\n",
        "x_range = np.array([-1, 1])\n",
        "x = np.linspace(x_range[0], x_range[1], num_data)\n",
        "print('shape of x:', x.shape)\n",
        "\n",
        "### Define some noise to add to wx+b\n",
        "noise = np.random.randn(num_data) * noise_value\n",
        "y = gt_w * x + gt_b + noise\n",
        "print('shape of y:', y.shape)"
      ],
      "execution_count": 8,
      "outputs": [
        {
          "output_type": "stream",
          "name": "stdout",
          "text": [
            "shape of x: (1000,)\n",
            "shape of y: (1000,)\n"
          ]
        }
      ]
    },
    {
      "cell_type": "code",
      "metadata": {
        "id": "lNg1zAcT-E_m",
        "colab": {
          "base_uri": "https://localhost:8080/",
          "height": 472
        },
        "outputId": "af264e5b-3a04-4acb-ffe6-b2178375143d"
      },
      "source": [
        "### Plot the dataset\n",
        "plt.figure(figsize=(12, 7))\n",
        "plt.plot(x, y, '.')\n",
        "\n",
        "### Plot the ground truth linear regressor\n",
        "# x_range = np.array([-1, 1]), gt_w = 4.0, gt_b = -2.0\n",
        "plt.plot(x_range, x_range * gt_w + gt_b, linewidth=4) # 4x - 2\n",
        "\n",
        "### Title and extras\n",
        "plt.title('Linear Dataset', fontsize=20)\n",
        "plt.xlabel('X', fontsize=20)\n",
        "plt.ylabel('Y', fontsize=20)\n",
        "plt.show()"
      ],
      "execution_count": 9,
      "outputs": [
        {
          "output_type": "display_data",
          "data": {
            "text/plain": [
              "<Figure size 864x504 with 1 Axes>"
            ],
            "image/png": "[encoded data removed]"
          },
          "metadata": {
            "needs_background": "light"
          }
        }
      ]
    },
    {
      "cell_type": "markdown",
      "metadata": {
        "id": "Q0cfpMI6-LfL"
      },
      "source": [
        "# Define the Pytorch Dataset with x y points\n",
        "- Define your own class, which inherits from \"Dataset\" class of pytorch\n",
        "- Define constructor of the class with init\n",
        "- Define the length of the dataset with len\n",
        "- Define the function when bringing out the idx-th dataset\n",
        "    * Return the dictionary containing the input and output of single datapoint\n"
      ]
    },
    {
      "cell_type": "code",
      "metadata": {
        "id": "ijn8tboRy9jD"
      },
      "source": [
        "class XY_Dataset(Dataset):\n",
        "    def __init__(self, x, y):\n",
        "        '''\n",
        "        x : input points\n",
        "        y : output points\n",
        "        '''\n",
        "        self.x = x\n",
        "        self.y = y\n",
        "        self.num_data = len(self.x)\n",
        "        print('number of data: {}'.format(self.x.shape))\n",
        "\n",
        "    def __len__(self):\n",
        "        return self.num_data\n",
        "\n",
        "    def __getitem__(self, idx):\n",
        "        curr_x = self.x[idx]\n",
        "        curr_y = self.y[idx]\n",
        "\n",
        "        # dictation that includes data information\n",
        "        sample = dict()\n",
        "        sample['x'] = curr_x\n",
        "        sample['y'] = curr_y\n",
        "\n",
        "        return sample\n",
        "\n",
        "# my_data = XY_Dataset(x=x, y=y)\n",
        "# my_data[0] # index 부여 시 __getitem__ 자동 호출 -> 실제 학습 시에는 index가 아니라 batch 단위로 접근함"
      ],
      "execution_count": 11,
      "outputs": []
    },
    {
      "cell_type": "markdown",
      "metadata": {
        "id": "a6Jn9ao2_CKn"
      },
      "source": [
        "# Define the dataset, and dataloader\n",
        "- DataLoader makes you to randomly sample the dataset with a batch size you want."
      ]
    },
    {
      "cell_type": "code",
      "metadata": {
        "id": "CnuQAIS90B-Z",
        "colab": {
          "base_uri": "https://localhost:8080/"
        },
        "outputId": "a889b4ee-3482-4360-a2f9-d73d734ebad6"
      },
      "source": [
        "### Define the batch size you want\n",
        "batch_size = 64\n",
        "\n",
        "### Create the instance of dataset, and dataloader\n",
        "dataset = XY_Dataset(x, y)\n",
        "dataloader = DataLoader(dataset, batch_size, shuffle=True)\n",
        "\n",
        "### Try sampling out one random data point.\n",
        "sample = next(iter(dataloader))\n",
        "print(sample.keys())\n",
        "print(sample['x'].shape) # batch_size\n",
        "print(sample['y'].shape) # batch_size\n",
        "print(sample['x'])"
      ],
      "execution_count": 14,
      "outputs": [
        {
          "output_type": "stream",
          "name": "stdout",
          "text": [
            "number of data: (1000,)\n",
            "dict_keys(['x', 'y'])\n",
            "torch.Size([64])\n",
            "torch.Size([64])\n",
            "tensor([ 0.1411,  0.4094,  0.8378,  0.7798,  0.6036,  0.3634,  0.3313,  0.4014,\n",
            "         0.9419, -0.0751, -0.7237, -0.9700, -0.6336, -0.6316,  0.4054, -0.8298,\n",
            "        -0.8258, -0.7678, -0.3994,  0.8418,  0.3493, -0.1391, -0.1672,  1.0000,\n",
            "         0.0210,  0.8118, -0.3874, -0.2192,  0.5996, -0.1291, -0.1632,  0.8759,\n",
            "         0.3614, -0.5455, -0.3493,  0.9179, -0.7337,  0.1391,  0.1812,  0.6977,\n",
            "        -0.9439, -0.7177,  0.5716, -0.3113, -0.4294,  0.5055, -0.3413, -0.3273,\n",
            "        -0.3473,  0.2052,  0.8959, -0.1271, -0.3634, -0.3674,  0.7097, -0.2633,\n",
            "        -0.5335, -0.4895, -0.8599,  0.1672,  0.8599,  0.9680, -0.6677,  0.1091],\n",
            "       dtype=torch.float64)\n"
          ]
        }
      ]
    },
    {
      "cell_type": "markdown",
      "metadata": {
        "id": "lRQdUsk6_jmR"
      },
      "source": [
        "# Initialize the weight and bias."
      ]
    },
    {
      "cell_type": "code",
      "metadata": {
        "id": "lVwGIXk90uGt",
        "colab": {
          "base_uri": "https://localhost:8080/"
        },
        "outputId": "1e4ea068-39c4-45b8-afd0-593b23b2f40a"
      },
      "source": [
        "### Needs requires_grad=True, if you want to make as a parameter to train.\n",
        "pred_w = nn.Parameter(torch.rand(1), requires_grad=True) # requires_grad : trainable or not\n",
        "pred_b = nn.Parameter(torch.rand(1), requires_grad=True)\n",
        "print('Initialized w: {}, b: {}'.format(pred_w.item(), pred_b.item())) # nn.Parameter.item() : show elements of the parameter"
      ],
      "execution_count": 26,
      "outputs": [
        {
          "output_type": "stream",
          "name": "stdout",
          "text": [
            "Initialized w: 0.549507200717926, b: 0.5433734655380249\n"
          ]
        }
      ]
    },
    {
      "cell_type": "markdown",
      "metadata": {
        "id": "HOfw2aud_0n-"
      },
      "source": [
        "# Define the ,,train'' function. "
      ]
    },
    {
      "cell_type": "code",
      "metadata": {
        "id": "v2Sogfqk2rSh"
      },
      "source": [
        "def train(pred_w, pred_b, sample, learning_rate):\n",
        "    '''\n",
        "    pred_w : weight to train.\n",
        "    pred_b : bias to train.\n",
        "    sample : sample from dataloader. dictionary containing 'x' and 'y'.\n",
        "    learning_rate : the learning rate you want. \n",
        "    pred_loss : predicted loss from this iteration\n",
        "    '''\n",
        "    \n",
        "    # get prediction\n",
        "    curr_x = sample['x']\n",
        "    curr_y = sample['y']\n",
        "    batch_size = curr_x.shape[0]\n",
        "\n",
        "    pred_y = pred_w * curr_x + pred_b\n",
        "    \n",
        "    # calculate the pred_loss\n",
        "    criteria = nn.MSELoss()\n",
        "    pred_loss = criteria(pred_y, curr_y) # (prediction, Ground Truth)\n",
        "    # pred_loss = torch.sqrt(torch.mean((pred_y - curr_y) ** 2))\n",
        "    \n",
        "    # make pytorch compute the gradient\n",
        "    pred_loss.backward()\n",
        "\n",
        "    # need ``no_grad'' to keep the computed gradient. otherwise, it will generate NoneType\n",
        "    with torch.no_grad():\n",
        "        pred_w -= learning_rate * pred_w.grad\n",
        "        pred_b -= learning_rate * pred_b.grad\n",
        "        \n",
        "    # initizlize the gradient to zero\n",
        "    pred_w.grad.zero_()\n",
        "    pred_b.grad.zero_()\n",
        "    \n",
        "    return pred_loss.item()"
      ],
      "execution_count": 16,
      "outputs": []
    },
    {
      "cell_type": "markdown",
      "metadata": {
        "id": "hxR6mMM7BQev"
      },
      "source": [
        "# Iterate over the dataset! With your ,,train'' function"
      ]
    },
    {
      "cell_type": "code",
      "metadata": {
        "id": "1-X2D2EA2m-E",
        "colab": {
          "base_uri": "https://localhost:8080/",
          "height": 442,
          "referenced_widgets": [
            "d90dd76fcd764ecc8eaeffc8955aa646",
            "0c276bc933ba4bc483a5ed05682d21f3",
            "3836a248f9004ed081a558ec4617e107",
            "b7df9d76050b49aba9545d1cf68e86d2",
            "83eba2eb3b4b471fa56e5a4e529fcc6b",
            "cc8d074fe60a474596d118fc81549df3",
            "be51e9ddc1364702a07dfa8dbcceccd8",
            "5c3b71fdc1734fd0a548d9dd104cbae9",
            "8b13306326404f2a951c87b3e84032a1",
            "dd0b906039b1438893bbf07a4647bd60",
            "806255b8ba174e809b1da7a642513797"
          ]
        },
        "outputId": "2e6e81a2-681e-45c7-bfbc-948a7c297b42"
      },
      "source": [
        "# define the maximum epoch\n",
        "max_epoch = 1000\n",
        "\n",
        "# define a list to save the loss\n",
        "loss_saver = list()\n",
        "\n",
        "# define how often you will print the result\n",
        "print_stride = 50\n",
        "\n",
        "# iterate over the dataset for (max_epoch) times\n",
        "for epoch in tqdm(range(max_epoch)): # tqdm shows progress bar\n",
        "    total_loss = 0.0\n",
        "    for idx, sample in enumerate(dataloader):\n",
        "        curr_loss = train(pred_w, pred_b, sample, learning_rate=0.0005)\n",
        "        total_loss += curr_loss / len(dataloader) # len(dataloader) : num of batches\n",
        "    \n",
        "    loss_saver.append(total_loss)\n",
        "    \n",
        "    if (epoch + 1) % print_stride == 0:\n",
        "        print('[EPOCH {}] LOSS : {}'.format(epoch+1, total_loss)) # weight and bias package 비추\n",
        "    \n",
        "print()\n",
        "print('Final Prediction : pred_w = {}, pred_b = {}'.format(pred_w.item(), pred_b.item()))"
      ],
      "execution_count": 27,
      "outputs": [
        {
          "output_type": "display_data",
          "data": {
            "text/plain": [
              "  0%|          | 0/1000 [00:00<?, ?it/s]"
            ],
            "application/vnd.jupyter.widget-view+json": {
              "version_major": 2,
              "version_minor": 0,
              "model_id": "d90dd76fcd764ecc8eaeffc8955aa646"
            }
          },
          "metadata": {}
        },
        {
          "output_type": "stream",
          "name": "stdout",
          "text": [
            "[EPOCH 50] LOSS : 7.70485239994556\n",
            "[EPOCH 100] LOSS : 5.669601349978987\n",
            "[EPOCH 150] LOSS : 4.8678979805743765\n",
            "[EPOCH 200] LOSS : 4.480599339446762\n",
            "[EPOCH 250] LOSS : 4.27574091584331\n",
            "[EPOCH 300] LOSS : 4.147120232671366\n",
            "[EPOCH 350] LOSS : 4.057631422161489\n",
            "[EPOCH 400] LOSS : 4.009261918881675\n",
            "[EPOCH 450] LOSS : 4.006970785697037\n",
            "[EPOCH 500] LOSS : 3.9941594733380903\n",
            "[EPOCH 550] LOSS : 3.9887369130059094\n",
            "[EPOCH 600] LOSS : 3.9894258572433197\n",
            "[EPOCH 650] LOSS : 3.977146406088835\n",
            "[EPOCH 700] LOSS : 3.972094532787753\n",
            "[EPOCH 750] LOSS : 3.9876075033189022\n",
            "[EPOCH 800] LOSS : 3.980245974105016\n",
            "[EPOCH 850] LOSS : 3.9576013728270847\n",
            "[EPOCH 900] LOSS : 3.958807559446721\n",
            "[EPOCH 950] LOSS : 3.966838943684772\n",
            "[EPOCH 1000] LOSS : 3.961708645058038\n",
            "\n",
            "Final Prediction : pred_w = 4.037976264953613, pred_b = -1.9979517459869385\n"
          ]
        }
      ]
    },
    {
      "cell_type": "markdown",
      "metadata": {
        "id": "x_Ch5xY3B_0w"
      },
      "source": [
        "# Plot the result : training loss and resulted linear regressor"
      ]
    },
    {
      "cell_type": "code",
      "metadata": {
        "id": "gJeS6J9W6j3h",
        "colab": {
          "base_uri": "https://localhost:8080/",
          "height": 472
        },
        "outputId": "ff96ff26-bda2-4120-ca98-89f0ca68a1ea"
      },
      "source": [
        "loss_saver = np.array(loss_saver)\n",
        "plt.figure(figsize=(12, 7))\n",
        "plt.plot(np.arange(len(loss_saver)), loss_saver, '.-')\n",
        "plt.title('Training Loss', fontsize=20)\n",
        "plt.xlabel('X', fontsize=20)\n",
        "plt.ylabel('Y', fontsize=20)\n",
        "plt.show()"
      ],
      "execution_count": 28,
      "outputs": [
        {
          "output_type": "display_data",
          "data": {
            "text/plain": [
              "<Figure size 864x504 with 1 Axes>"
            ],
            "image/png": "[encoded data removed]"
          },
          "metadata": {
            "needs_background": "light"
          }
        }
      ]
    },
    {
      "cell_type": "code",
      "metadata": {
        "id": "UQEEZhkZ72RL",
        "colab": {
          "base_uri": "https://localhost:8080/",
          "height": 472
        },
        "outputId": "4ab5e2f3-7bac-47e9-a72b-7bbc94abe979"
      },
      "source": [
        "plt.figure(figsize=(12, 7))\n",
        "\n",
        "### Plot the dataset\n",
        "plt.plot(x, y, '.')\n",
        "\n",
        "### Plot the ground truth + predicted linear regressor\n",
        "plt.plot(x_range, x_range * gt_w + gt_b, linewidth=4, label='Ground Truth')\n",
        "plt.plot(x_range, x_range * pred_w.item() + pred_b.item(), linewidth=4, label='Prediction')\n",
        "\n",
        "### Title and extras\n",
        "plt.title('Linear Dataset', fontsize=20)\n",
        "plt.xlabel('X', fontsize=20)\n",
        "plt.ylabel('Y', fontsize=20)\n",
        "plt.legend()\n",
        "plt.show()"
      ],
      "execution_count": 29,
      "outputs": [
        {
          "output_type": "display_data",
          "data": {
            "text/plain": [
              "<Figure size 864x504 with 1 Axes>"
            ],
            "image/png": "[encoded data removed]"
          },
          "metadata": {
            "needs_background": "light"
          }
        }
      ]
    },
    {
      "cell_type": "code",
      "source": [],
      "metadata": {
        "id": "Hy2cljI7OreE"
      },
      "execution_count": null,
      "outputs": []
    }
  ]
}